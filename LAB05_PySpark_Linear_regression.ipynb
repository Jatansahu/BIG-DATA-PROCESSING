{
  "nbformat": 4,
  "nbformat_minor": 0,
  "metadata": {
    "colab": {
      "provenance": [],
      "include_colab_link": true
    },
    "kernelspec": {
      "name": "python3",
      "display_name": "Python 3"
    },
    "language_info": {
      "name": "python"
    }
  },
  "cells": [
    {
      "cell_type": "markdown",
      "metadata": {
        "id": "view-in-github",
        "colab_type": "text"
      },
      "source": [
        "<a href=\"https://colab.research.google.com/github/Jatansahu/BIG-DATA-PROCESSING/blob/main/PySpark_Linear_regression_LAB05.ipynb\" target=\"_parent\"><img src=\"https://colab.research.google.com/assets/colab-badge.svg\" alt=\"Open In Colab\"/></a>"
      ]
    },
    {
      "cell_type": "markdown",
      "source": [
        "#IT 609 - Big Data Processing Lab 4\n",
        "#March 16, 2023"
      ],
      "metadata": {
        "id": "x6-C-qm51Iy9"
      }
    },
    {
      "cell_type": "markdown",
      "source": [
        "**ID  - 202218061**\n",
        "\n",
        "\n",
        "**NAME - JATAN SAHU**"
      ],
      "metadata": {
        "id": "8_GvaO2O1O7R"
      }
    },
    {
      "cell_type": "markdown",
      "source": [
        "#1 Aim\n",
        "#• learn how to use PySpark for applying Linear Regression.\n",
        "\n",
        "2 Problem description\n",
        "\n",
        "Spark provides APIs for various machine learning algorithms. In this lab as-\n",
        "signment you build Linear regression model which predicts the selling price of\n",
        "\n",
        "a car based on a set of features like car name,year, km driven, number of seats,\n",
        "etc.\n",
        "\n",
        "3 Implementation\n",
        "\n",
        "3.1 Dataset\n",
        "• You will use the Vehicle dataset from cardekho Car details v3.csv.\n",
        "\n",
        "3.2 Exercise\n",
        "\n",
        "RDD Tasks\n",
        "\n",
        "• Read the dataset into a PySpark Dataframe.\n",
        "\n",
        "• You are supposed to use all the columns except for torque (bonus task)\n",
        "for predicting the selling price using Linear regression.\n",
        "\n",
        "• Use appropriate functions to transform the column data into numerical\n",
        "values and handle missing values.\n",
        "\n",
        "• Compare the results obtained from standardization and without standard-\n",
        "ization.\n",
        "\n",
        "• Split the data into train and test (80:20). Train the linear regression model\n",
        "using train data and evaluate the model on test data.\n",
        "\n",
        "• Compute RMSE, MAE and R2 score for the test data."
      ],
      "metadata": {
        "id": "4_wvtjtl1YhQ"
      }
    },
    {
      "cell_type": "code",
      "source": [
        "pip install pyspark"
      ],
      "metadata": {
        "colab": {
          "base_uri": "https://localhost:8080/"
        },
        "id": "E5zRKcMa4AqQ",
        "outputId": "885ec124-6b5b-47c8-d9be-17d19cc824b2"
      },
      "execution_count": null,
      "outputs": [
        {
          "output_type": "stream",
          "name": "stdout",
          "text": [
            "Looking in indexes: https://pypi.org/simple, https://us-python.pkg.dev/colab-wheels/public/simple/\n",
            "Collecting pyspark\n",
            "  Downloading pyspark-3.3.2.tar.gz (281.4 MB)\n",
            "\u001b[2K     \u001b[90m━━━━━━━━━━━━━━━━━━━━━━━━━━━━━━━━━━━━━━━\u001b[0m \u001b[32m281.4/281.4 MB\u001b[0m \u001b[31m4.6 MB/s\u001b[0m eta \u001b[36m0:00:00\u001b[0m\n",
            "\u001b[?25h  Preparing metadata (setup.py) ... \u001b[?25l\u001b[?25hdone\n",
            "Collecting py4j==0.10.9.5\n",
            "  Downloading py4j-0.10.9.5-py2.py3-none-any.whl (199 kB)\n",
            "\u001b[2K     \u001b[90m━━━━━━━━━━━━━━━━━━━━━━━━━━━━━━━━━━━━━━\u001b[0m \u001b[32m199.7/199.7 KB\u001b[0m \u001b[31m15.3 MB/s\u001b[0m eta \u001b[36m0:00:00\u001b[0m\n",
            "\u001b[?25hBuilding wheels for collected packages: pyspark\n",
            "  Building wheel for pyspark (setup.py) ... \u001b[?25l\u001b[?25hdone\n",
            "  Created wheel for pyspark: filename=pyspark-3.3.2-py2.py3-none-any.whl size=281824028 sha256=9eaff4096da68bb74dd0444023e53efddca6e2eec8173925f4c90c6d4701e769\n",
            "  Stored in directory: /root/.cache/pip/wheels/6c/e3/9b/0525ce8a69478916513509d43693511463c6468db0de237c86\n",
            "Successfully built pyspark\n",
            "Installing collected packages: py4j, pyspark\n",
            "  Attempting uninstall: py4j\n",
            "    Found existing installation: py4j 0.10.9.7\n",
            "    Uninstalling py4j-0.10.9.7:\n",
            "      Successfully uninstalled py4j-0.10.9.7\n",
            "Successfully installed py4j-0.10.9.5 pyspark-3.3.2\n"
          ]
        }
      ]
    },
    {
      "cell_type": "code",
      "source": [
        "from pyspark.sql import SparkSession\n",
        "spark = SparkSession.builder.appName('Applying Linear regression').getOrCreate()"
      ],
      "metadata": {
        "id": "MD0WrEe85E_E"
      },
      "execution_count": null,
      "outputs": []
    },
    {
      "cell_type": "code",
      "source": [
        "from pyspark.ml.regression import LinearRegression\n",
        "from pyspark.ml.feature import VectorAssembler"
      ],
      "metadata": {
        "id": "lX9g2kKT_rHd"
      },
      "execution_count": null,
      "outputs": []
    },
    {
      "cell_type": "markdown",
      "source": [
        "#Data Pre-Processing"
      ],
      "metadata": {
        "id": "Z5xidTjq3Vn0"
      }
    },
    {
      "cell_type": "code",
      "execution_count": null,
      "metadata": {
        "id": "6QZfjHjF1CZ0"
      },
      "outputs": [],
      "source": [
        "# Read the dataset into a PySpark Dataframe\n",
        "df = spark.read.csv(\"/content/drive/MyDrive/BDP/datasets/Car_details_LAB5.csv\",header=True, inferSchema=True )\n"
      ]
    },
    {
      "cell_type": "code",
      "source": [
        "df.show()"
      ],
      "metadata": {
        "colab": {
          "base_uri": "https://localhost:8080/"
        },
        "id": "GLXQR1C45rN5",
        "outputId": "9b100a13-8d9f-4d82-d0e9-f5fdb9228d06"
      },
      "execution_count": null,
      "outputs": [
        {
          "output_type": "stream",
          "name": "stdout",
          "text": [
            "+--------------------+----+-------------+---------+------+-----------+------------+------------+----------+-------+----------+--------------------+-----+\n",
            "|                name|year|selling_price|km_driven|  fuel|seller_type|transmission|       owner|   mileage| engine| max_power|              torque|seats|\n",
            "+--------------------+----+-------------+---------+------+-----------+------------+------------+----------+-------+----------+--------------------+-----+\n",
            "|Maruti Swift Dzir...|2014|       450000|   145500|Diesel| Individual|      Manual| First Owner| 23.4 kmpl|1248 CC|    74 bhp|      190Nm@ 2000rpm|    5|\n",
            "|Skoda Rapid 1.5 T...|2014|       370000|   120000|Diesel| Individual|      Manual|Second Owner|21.14 kmpl|1498 CC|103.52 bhp| 250Nm@ 1500-2500rpm|    5|\n",
            "|Honda City 2017-2...|2006|       158000|   140000|Petrol| Individual|      Manual| Third Owner| 17.7 kmpl|1497 CC|    78 bhp|12.7@ 2,700(kgm@ ...|    5|\n",
            "|Hyundai i20 Sport...|2010|       225000|   127000|Diesel| Individual|      Manual| First Owner| 23.0 kmpl|1396 CC|    90 bhp|22.4 kgm at 1750-...|    5|\n",
            "|Maruti Swift VXI ...|2007|       130000|   120000|Petrol| Individual|      Manual| First Owner| 16.1 kmpl|1298 CC|  88.2 bhp|11.5@ 4,500(kgm@ ...|    5|\n",
            "|Hyundai Xcent 1.2...|2017|       440000|    45000|Petrol| Individual|      Manual| First Owner|20.14 kmpl|1197 CC| 81.86 bhp|   113.75nm@ 4000rpm|    5|\n",
            "|Maruti Wagon R LX...|2007|        96000|   175000|   LPG| Individual|      Manual| First Owner|17.3 km/kg|1061 CC|  57.5 bhp|7.8@ 4,500(kgm@ rpm)|    5|\n",
            "|  Maruti 800 DX BSII|2001|        45000|     5000|Petrol| Individual|      Manual|Second Owner| 16.1 kmpl| 796 CC|    37 bhp|       59Nm@ 2500rpm|    4|\n",
            "|    Toyota Etios VXD|2011|       350000|    90000|Diesel| Individual|      Manual| First Owner|23.59 kmpl|1364 CC|  67.1 bhp| 170Nm@ 1800-2400rpm|    5|\n",
            "|Ford Figo Diesel ...|2013|       200000|   169000|Diesel| Individual|      Manual| First Owner| 20.0 kmpl|1399 CC|  68.1 bhp|      160Nm@ 2000rpm|    5|\n",
            "|Renault Duster 11...|2014|       500000|    68000|Diesel| Individual|      Manual|Second Owner|19.01 kmpl|1461 CC|108.45 bhp|      248Nm@ 2250rpm|    5|\n",
            "|       Maruti Zen LX|2005|        92000|   100000|Petrol| Individual|      Manual|Second Owner| 17.3 kmpl| 993 CC|    60 bhp|       78Nm@ 4500rpm|    5|\n",
            "|Maruti Swift Dzir...|2009|       280000|   140000|Diesel| Individual|      Manual|Second Owner| 19.3 kmpl|1248 CC|  73.9 bhp|      190Nm@ 2000rpm|    5|\n",
            "|Maruti Swift 1.3 VXi|2007|       200000|    80000|Petrol| Individual|      Manual|Second Owner|      null|   null|      null|                null| null|\n",
            "|Maruti Wagon R LX...|2009|       180000|    90000|Petrol| Individual|      Manual|Second Owner| 18.9 kmpl|1061 CC|    67 bhp|       84Nm@ 3500rpm|    5|\n",
            "|Mahindra KUV 100 ...|2016|       400000|    40000|Petrol| Individual|      Manual| First Owner|18.15 kmpl|1198 CC|    82 bhp| 115Nm@ 3500-3600rpm|    5|\n",
            "|Maruti Ertiga SHV...|2016|       778000|    70000|Diesel| Individual|      Manual|Second Owner|24.52 kmpl|1248 CC|  88.5 bhp|      200Nm@ 1750rpm|    7|\n",
            "|Hyundai i20 1.4 C...|2012|       500000|    53000|Diesel| Individual|      Manual|Second Owner| 23.0 kmpl|1396 CC|    90 bhp|22.4 kgm at 1750-...|    5|\n",
            "|      Maruti Alto LX|2002|       150000|    80000|Petrol| Individual|      Manual|Second Owner| 19.7 kmpl| 796 CC|  46.3 bhp|       62Nm@ 3000rpm|    5|\n",
            "|Hyundai i20 2015-...|2016|       680000|   100000|Diesel| Individual|      Manual| First Owner|22.54 kmpl|1396 CC| 88.73 bhp|219.7Nm@ 1500-275...|    5|\n",
            "+--------------------+----+-------------+---------+------+-----------+------------+------------+----------+-------+----------+--------------------+-----+\n",
            "only showing top 20 rows\n",
            "\n"
          ]
        }
      ]
    },
    {
      "cell_type": "code",
      "source": [
        "#Shape of dataframe\n",
        "print((df.count(), len(df.columns)))"
      ],
      "metadata": {
        "colab": {
          "base_uri": "https://localhost:8080/"
        },
        "id": "Ittp7tlR6YKM",
        "outputId": "507a5276-806a-44ac-ba5f-21033c242627"
      },
      "execution_count": null,
      "outputs": [
        {
          "output_type": "stream",
          "name": "stdout",
          "text": [
            "(8128, 13)\n"
          ]
        }
      ]
    },
    {
      "cell_type": "markdown",
      "source": [
        "#You are supposed to use all the columns except for torque (bonus task) for predicting the selling price using Linear regression"
      ],
      "metadata": {
        "id": "G2jnhQwnwjTv"
      }
    },
    {
      "cell_type": "code",
      "source": [
        "from pyspark.sql.functions import col"
      ],
      "metadata": {
        "id": "1KORL6Ue233r"
      },
      "execution_count": null,
      "outputs": []
    },
    {
      "cell_type": "code",
      "source": [
        "df =df.drop(\"torque\")"
      ],
      "metadata": {
        "id": "bCX4IHSI5t6V"
      },
      "execution_count": null,
      "outputs": []
    },
    {
      "cell_type": "code",
      "source": [
        "df.show(5)"
      ],
      "metadata": {
        "colab": {
          "base_uri": "https://localhost:8080/"
        },
        "id": "ACRHeqOW5x2s",
        "outputId": "ffc79842-814a-459a-f355-1a53e07dba8a"
      },
      "execution_count": null,
      "outputs": [
        {
          "output_type": "stream",
          "name": "stdout",
          "text": [
            "+--------------------+----+-------------+---------+------+-----------+------------+------------+----------+-------+----------+-----+\n",
            "|                name|year|selling_price|km_driven|  fuel|seller_type|transmission|       owner|   mileage| engine| max_power|seats|\n",
            "+--------------------+----+-------------+---------+------+-----------+------------+------------+----------+-------+----------+-----+\n",
            "|Maruti Swift Dzir...|2014|       450000|   145500|Diesel| Individual|      Manual| First Owner| 23.4 kmpl|1248 CC|    74 bhp|    5|\n",
            "|Skoda Rapid 1.5 T...|2014|       370000|   120000|Diesel| Individual|      Manual|Second Owner|21.14 kmpl|1498 CC|103.52 bhp|    5|\n",
            "|Honda City 2017-2...|2006|       158000|   140000|Petrol| Individual|      Manual| Third Owner| 17.7 kmpl|1497 CC|    78 bhp|    5|\n",
            "|Hyundai i20 Sport...|2010|       225000|   127000|Diesel| Individual|      Manual| First Owner| 23.0 kmpl|1396 CC|    90 bhp|    5|\n",
            "|Maruti Swift VXI ...|2007|       130000|   120000|Petrol| Individual|      Manual| First Owner| 16.1 kmpl|1298 CC|  88.2 bhp|    5|\n",
            "+--------------------+----+-------------+---------+------+-----------+------------+------------+----------+-------+----------+-----+\n",
            "only showing top 5 rows\n",
            "\n"
          ]
        }
      ]
    },
    {
      "cell_type": "code",
      "source": [
        "#Different way to drop\n",
        "# \"\"\" import col is required \"\"\"  \n",
        "# df.drop(col(\"torque\")) \\\n",
        "#   .printSchema()  \n",
        "  \n",
        "# df.drop(df.torque) \\\n",
        "#   .printSchema() "
      ],
      "metadata": {
        "id": "XorQeOKJwu-Q"
      },
      "execution_count": null,
      "outputs": []
    },
    {
      "cell_type": "markdown",
      "source": [
        "#• Use appropriate functions to transform the column data into numerical values and handle missing values"
      ],
      "metadata": {
        "id": "LHWDI4p9wtZK"
      }
    },
    {
      "cell_type": "markdown",
      "source": [
        "#Handling missing values"
      ],
      "metadata": {
        "id": "mubT3oxJO863"
      }
    },
    {
      "cell_type": "code",
      "source": [
        "dict_null = { col : df.filter(df[col].isNull()).count() for col in df.columns}\n",
        "dict_null"
      ],
      "metadata": {
        "colab": {
          "base_uri": "https://localhost:8080/"
        },
        "id": "v0Yj4qM4az9J",
        "outputId": "4425e646-6b72-4670-b125-f473e32305b3"
      },
      "execution_count": null,
      "outputs": [
        {
          "output_type": "execute_result",
          "data": {
            "text/plain": [
              "{'name': 0,\n",
              " 'year': 0,\n",
              " 'selling_price': 0,\n",
              " 'km_driven': 0,\n",
              " 'fuel': 0,\n",
              " 'seller_type': 0,\n",
              " 'transmission': 0,\n",
              " 'owner': 0,\n",
              " 'mileage': 221,\n",
              " 'engine': 221,\n",
              " 'max_power': 215,\n",
              " 'seats': 221}"
            ]
          },
          "metadata": {},
          "execution_count": 13
        }
      ]
    },
    {
      "cell_type": "code",
      "source": [
        "#Dropping Null values\n",
        "df =df.na.drop()"
      ],
      "metadata": {
        "id": "Tj7hs63YbxRn"
      },
      "execution_count": null,
      "outputs": []
    },
    {
      "cell_type": "code",
      "source": [
        "dict_null = { col : df.filter(df[col].isNull()).count() for col in df.columns}\n",
        "dict_null"
      ],
      "metadata": {
        "colab": {
          "base_uri": "https://localhost:8080/"
        },
        "id": "Sjyxw8npb2en",
        "outputId": "d65017df-c9f7-4a09-9f84-1e034ff9ea9d"
      },
      "execution_count": null,
      "outputs": [
        {
          "output_type": "execute_result",
          "data": {
            "text/plain": [
              "{'name': 0,\n",
              " 'year': 0,\n",
              " 'selling_price': 0,\n",
              " 'km_driven': 0,\n",
              " 'fuel': 0,\n",
              " 'seller_type': 0,\n",
              " 'transmission': 0,\n",
              " 'owner': 0,\n",
              " 'mileage': 0,\n",
              " 'engine': 0,\n",
              " 'max_power': 0,\n",
              " 'seats': 0}"
            ]
          },
          "metadata": {},
          "execution_count": 15
        }
      ]
    },
    {
      "cell_type": "code",
      "source": [
        "#Shape of dataframe\n",
        "print((df.count(), len(df.columns)))"
      ],
      "metadata": {
        "colab": {
          "base_uri": "https://localhost:8080/"
        },
        "id": "2ID7u7Mmcw0-",
        "outputId": "0f9dfa11-e10c-4cb6-9336-b462f785d5a9"
      },
      "execution_count": null,
      "outputs": [
        {
          "output_type": "stream",
          "name": "stdout",
          "text": [
            "(7907, 12)\n"
          ]
        }
      ]
    },
    {
      "cell_type": "code",
      "source": [
        "#Dropping one null value in max_power\n",
        "df.filter(df['max_power'].isNull()).count()"
      ],
      "metadata": {
        "colab": {
          "base_uri": "https://localhost:8080/"
        },
        "id": "r8hf_SQxAce4",
        "outputId": "72c0b084-2dbb-42d6-f7c4-7441f9defd3e"
      },
      "execution_count": null,
      "outputs": [
        {
          "output_type": "execute_result",
          "data": {
            "text/plain": [
              "0"
            ]
          },
          "metadata": {},
          "execution_count": 17
        }
      ]
    },
    {
      "cell_type": "code",
      "source": [
        "#dropping null values on basis of a column\n",
        "df =df.na.drop(subset=[\"max_power\"])\n",
        "df.filter(df['max_power'].isNull()).count()"
      ],
      "metadata": {
        "colab": {
          "base_uri": "https://localhost:8080/"
        },
        "id": "o3MVBXsjAmvE",
        "outputId": "d15621f7-d405-4206-e611-2ae63ad9b73e"
      },
      "execution_count": null,
      "outputs": [
        {
          "output_type": "execute_result",
          "data": {
            "text/plain": [
              "0"
            ]
          },
          "metadata": {},
          "execution_count": 18
        }
      ]
    },
    {
      "cell_type": "markdown",
      "source": [
        "#Transforming the column data"
      ],
      "metadata": {
        "id": "1pqjxcFXTvyn"
      }
    },
    {
      "cell_type": "markdown",
      "source": [
        "#Encoding all the string data"
      ],
      "metadata": {
        "id": "myg0DfkTdJH4"
      }
    },
    {
      "cell_type": "code",
      "source": [
        "df.show(2)"
      ],
      "metadata": {
        "colab": {
          "base_uri": "https://localhost:8080/"
        },
        "id": "BuOnOKChcoGI",
        "outputId": "899b6917-e21d-4518-eb99-8a99bc34e121"
      },
      "execution_count": null,
      "outputs": [
        {
          "output_type": "stream",
          "name": "stdout",
          "text": [
            "+--------------------+----+-------------+---------+------+-----------+------------+------------+----------+-------+----------+-----+\n",
            "|                name|year|selling_price|km_driven|  fuel|seller_type|transmission|       owner|   mileage| engine| max_power|seats|\n",
            "+--------------------+----+-------------+---------+------+-----------+------------+------------+----------+-------+----------+-----+\n",
            "|Maruti Swift Dzir...|2014|       450000|   145500|Diesel| Individual|      Manual| First Owner| 23.4 kmpl|1248 CC|    74 bhp|    5|\n",
            "|Skoda Rapid 1.5 T...|2014|       370000|   120000|Diesel| Individual|      Manual|Second Owner|21.14 kmpl|1498 CC|103.52 bhp|    5|\n",
            "+--------------------+----+-------------+---------+------+-----------+------------+------------+----------+-------+----------+-----+\n",
            "only showing top 2 rows\n",
            "\n"
          ]
        }
      ]
    },
    {
      "cell_type": "code",
      "source": [
        "print(df.select(\"name\").distinct().show())\n",
        "print(df.select(\"fuel\").distinct().show())\n",
        "print(df.select(\"seller_type\").distinct().show())\n",
        "print(df.select(\"transmission\").distinct().show())\n",
        "print(df.select(\"owner\").distinct().show())"
      ],
      "metadata": {
        "colab": {
          "base_uri": "https://localhost:8080/"
        },
        "id": "s7EjaeOyh5dm",
        "outputId": "b3b391dd-8a6b-47b6-c84c-92814ea56350"
      },
      "execution_count": null,
      "outputs": [
        {
          "output_type": "stream",
          "name": "stdout",
          "text": [
            "+--------------------+\n",
            "|                name|\n",
            "+--------------------+\n",
            "|  Maruti 800 DX BSII|\n",
            "| Honda City 1.5 S MT|\n",
            "|Mahindra Bolero 2...|\n",
            "|Toyota Etios Liva GD|\n",
            "|Tata Indica V2 Tu...|\n",
            "|Mahindra KUV 100 ...|\n",
            "|Mahindra Xylo D2 ...|\n",
            "|Datsun GO Anniver...|\n",
            "|Mahindra Bolero S...|\n",
            "|Toyota Innova 2.5...|\n",
            "| Mahindra TUV 300 T4|\n",
            "|    Datsun GO Plus A|\n",
            "|Tata Indica V2 DL...|\n",
            "|Maruti Ciaz 1.4 A...|\n",
            "|Mahindra Scorpio ...|\n",
            "|Hyundai i20 1.4 Asta|\n",
            "|Maruti Swift Lxi ...|\n",
            "|  Maruti Zen Classic|\n",
            "|      Maruti Zen LXI|\n",
            "|Hyundai Verna 1.6...|\n",
            "+--------------------+\n",
            "only showing top 20 rows\n",
            "\n",
            "None\n",
            "+------+\n",
            "|  fuel|\n",
            "+------+\n",
            "|Diesel|\n",
            "|   CNG|\n",
            "|   LPG|\n",
            "|Petrol|\n",
            "+------+\n",
            "\n",
            "None\n",
            "+----------------+\n",
            "|     seller_type|\n",
            "+----------------+\n",
            "|      Individual|\n",
            "|          Dealer|\n",
            "|Trustmark Dealer|\n",
            "+----------------+\n",
            "\n",
            "None\n",
            "+------------+\n",
            "|transmission|\n",
            "+------------+\n",
            "|   Automatic|\n",
            "|      Manual|\n",
            "+------------+\n",
            "\n",
            "None\n",
            "+--------------------+\n",
            "|               owner|\n",
            "+--------------------+\n",
            "|         Third Owner|\n",
            "|Fourth & Above Owner|\n",
            "|        Second Owner|\n",
            "|         First Owner|\n",
            "|      Test Drive Car|\n",
            "+--------------------+\n",
            "\n",
            "None\n"
          ]
        }
      ]
    },
    {
      "cell_type": "markdown",
      "source": [
        "#Preprocessing"
      ],
      "metadata": {
        "id": "aAvAg_A8-KgH"
      }
    },
    {
      "cell_type": "code",
      "source": [
        "df.show(1)"
      ],
      "metadata": {
        "colab": {
          "base_uri": "https://localhost:8080/"
        },
        "id": "qd7H3T1Rkrtm",
        "outputId": "1973638e-6b1b-4603-b1fe-95cf5fd0a512"
      },
      "execution_count": null,
      "outputs": [
        {
          "output_type": "stream",
          "name": "stdout",
          "text": [
            "+--------------------+----+-------------+---------+------+-----------+------------+-----------+---------+-------+---------+-----+\n",
            "|                name|year|selling_price|km_driven|  fuel|seller_type|transmission|      owner|  mileage| engine|max_power|seats|\n",
            "+--------------------+----+-------------+---------+------+-----------+------------+-----------+---------+-------+---------+-----+\n",
            "|Maruti Swift Dzir...|2014|       450000|   145500|Diesel| Individual|      Manual|First Owner|23.4 kmpl|1248 CC|   74 bhp|    5|\n",
            "+--------------------+----+-------------+---------+------+-----------+------------+-----------+---------+-------+---------+-----+\n",
            "only showing top 1 row\n",
            "\n"
          ]
        }
      ]
    },
    {
      "cell_type": "code",
      "source": [
        "#Removing substring using the regexp_replace method\n",
        "from pyspark.sql import functions as F\n",
        "df = df.withColumn(\"mileage\", F.regexp_replace(\"mileage\", \"kmpl\", \"\"))\n",
        "df = df.withColumn(\"mileage\", F.regexp_replace(\"mileage\", \"km/kg\", \"\"))\n",
        "df = df.withColumn(\"engine\", F.regexp_replace(\"engine\", \"CC\", \"\"))\n",
        "df = df.withColumn(\"max_power\", F.regexp_replace(\"max_power\", \"bhp\", \"\"))\n",
        "df.show()"
      ],
      "metadata": {
        "colab": {
          "base_uri": "https://localhost:8080/"
        },
        "id": "BMpP2976j9y0",
        "outputId": "11b7cf47-b083-461f-c888-6cf310db087b"
      },
      "execution_count": null,
      "outputs": [
        {
          "output_type": "stream",
          "name": "stdout",
          "text": [
            "+--------------------+----+-------------+---------+------+-----------+------------+------------+-------+------+---------+-----+\n",
            "|                name|year|selling_price|km_driven|  fuel|seller_type|transmission|       owner|mileage|engine|max_power|seats|\n",
            "+--------------------+----+-------------+---------+------+-----------+------------+------------+-------+------+---------+-----+\n",
            "|Maruti Swift Dzir...|2014|       450000|   145500|Diesel| Individual|      Manual| First Owner|  23.4 | 1248 |      74 |    5|\n",
            "|Skoda Rapid 1.5 T...|2014|       370000|   120000|Diesel| Individual|      Manual|Second Owner| 21.14 | 1498 |  103.52 |    5|\n",
            "|Honda City 2017-2...|2006|       158000|   140000|Petrol| Individual|      Manual| Third Owner|  17.7 | 1497 |      78 |    5|\n",
            "|Hyundai i20 Sport...|2010|       225000|   127000|Diesel| Individual|      Manual| First Owner|  23.0 | 1396 |      90 |    5|\n",
            "|Maruti Swift VXI ...|2007|       130000|   120000|Petrol| Individual|      Manual| First Owner|  16.1 | 1298 |    88.2 |    5|\n",
            "|Hyundai Xcent 1.2...|2017|       440000|    45000|Petrol| Individual|      Manual| First Owner| 20.14 | 1197 |   81.86 |    5|\n",
            "|Maruti Wagon R LX...|2007|        96000|   175000|   LPG| Individual|      Manual| First Owner|  17.3 | 1061 |    57.5 |    5|\n",
            "|  Maruti 800 DX BSII|2001|        45000|     5000|Petrol| Individual|      Manual|Second Owner|  16.1 |  796 |      37 |    4|\n",
            "|    Toyota Etios VXD|2011|       350000|    90000|Diesel| Individual|      Manual| First Owner| 23.59 | 1364 |    67.1 |    5|\n",
            "|Ford Figo Diesel ...|2013|       200000|   169000|Diesel| Individual|      Manual| First Owner|  20.0 | 1399 |    68.1 |    5|\n",
            "|Renault Duster 11...|2014|       500000|    68000|Diesel| Individual|      Manual|Second Owner| 19.01 | 1461 |  108.45 |    5|\n",
            "|       Maruti Zen LX|2005|        92000|   100000|Petrol| Individual|      Manual|Second Owner|  17.3 |  993 |      60 |    5|\n",
            "|Maruti Swift Dzir...|2009|       280000|   140000|Diesel| Individual|      Manual|Second Owner|  19.3 | 1248 |    73.9 |    5|\n",
            "|Maruti Wagon R LX...|2009|       180000|    90000|Petrol| Individual|      Manual|Second Owner|  18.9 | 1061 |      67 |    5|\n",
            "|Mahindra KUV 100 ...|2016|       400000|    40000|Petrol| Individual|      Manual| First Owner| 18.15 | 1198 |      82 |    5|\n",
            "|Maruti Ertiga SHV...|2016|       778000|    70000|Diesel| Individual|      Manual|Second Owner| 24.52 | 1248 |    88.5 |    7|\n",
            "|Hyundai i20 1.4 C...|2012|       500000|    53000|Diesel| Individual|      Manual|Second Owner|  23.0 | 1396 |      90 |    5|\n",
            "|      Maruti Alto LX|2002|       150000|    80000|Petrol| Individual|      Manual|Second Owner|  19.7 |  796 |    46.3 |    5|\n",
            "|Hyundai i20 2015-...|2016|       680000|   100000|Diesel| Individual|      Manual| First Owner| 22.54 | 1396 |   88.73 |    5|\n",
            "|Mahindra Verito 1...|2011|       174000|   100000|Diesel| Individual|      Manual|Second Owner|  21.0 | 1461 |    64.1 |    5|\n",
            "+--------------------+----+-------------+---------+------+-----------+------------+------------+-------+------+---------+-----+\n",
            "only showing top 20 rows\n",
            "\n"
          ]
        }
      ]
    },
    {
      "cell_type": "code",
      "source": [
        "df.printSchema()"
      ],
      "metadata": {
        "colab": {
          "base_uri": "https://localhost:8080/"
        },
        "id": "t0T9fKRQlQrv",
        "outputId": "cfc948c8-0662-4e7e-921c-2431f1f4a292"
      },
      "execution_count": null,
      "outputs": [
        {
          "output_type": "stream",
          "name": "stdout",
          "text": [
            "root\n",
            " |-- name: string (nullable = true)\n",
            " |-- year: integer (nullable = true)\n",
            " |-- selling_price: integer (nullable = true)\n",
            " |-- km_driven: integer (nullable = true)\n",
            " |-- fuel: string (nullable = true)\n",
            " |-- seller_type: string (nullable = true)\n",
            " |-- transmission: string (nullable = true)\n",
            " |-- owner: string (nullable = true)\n",
            " |-- mileage: string (nullable = true)\n",
            " |-- engine: string (nullable = true)\n",
            " |-- max_power: string (nullable = true)\n",
            " |-- seats: integer (nullable = true)\n",
            "\n"
          ]
        }
      ]
    },
    {
      "cell_type": "code",
      "source": [
        "# Cast mileage from string type to float type , engine from string to integer and max_power string to float\n",
        "df = df.withColumn(\"mileage\", df[\"mileage\"].cast('float'))\n",
        "df = df.withColumn(\"engine\", df[\"engine\"].cast('integer'))\n",
        "df = df.withColumn(\"max_power\", df[\"max_power\"].cast('float'))\n"
      ],
      "metadata": {
        "id": "V7vR9LFFmWRp"
      },
      "execution_count": null,
      "outputs": []
    },
    {
      "cell_type": "code",
      "source": [
        "df.printSchema()"
      ],
      "metadata": {
        "colab": {
          "base_uri": "https://localhost:8080/"
        },
        "id": "a88iXDplnMPb",
        "outputId": "b2461ae3-c57c-46e6-bbcc-a9f84400fc06"
      },
      "execution_count": null,
      "outputs": [
        {
          "output_type": "stream",
          "name": "stdout",
          "text": [
            "root\n",
            " |-- name: string (nullable = true)\n",
            " |-- year: integer (nullable = true)\n",
            " |-- selling_price: integer (nullable = true)\n",
            " |-- km_driven: integer (nullable = true)\n",
            " |-- fuel: string (nullable = true)\n",
            " |-- seller_type: string (nullable = true)\n",
            " |-- transmission: string (nullable = true)\n",
            " |-- owner: string (nullable = true)\n",
            " |-- mileage: float (nullable = true)\n",
            " |-- engine: integer (nullable = true)\n",
            " |-- max_power: float (nullable = true)\n",
            " |-- seats: integer (nullable = true)\n",
            "\n"
          ]
        }
      ]
    },
    {
      "cell_type": "code",
      "source": [
        "from pyspark.ml import Pipeline\n",
        "from pyspark.ml.feature import StringIndexer, OneHotEncoder\n",
        "#StringIndexer: This is essentially assigning a numeric value to each category (i.e.; Fair: 0, Ideal: 1, Good: 2, Very Good: 3, Premium: 4)\n",
        "#OneHotEncoder: This converts categories into binary vectors. The result is a SparseVector that indicates which index from StringIndexer has the one-hot value of 1.\n",
        "\n",
        " \n",
        "cat_cols= [\"name\", \"fuel\", \"seller_type\",\"transmission\",\"owner\"]\n",
        "stages = [] # Stages in Pipeline\n",
        "\n",
        "for c in cat_cols:\n",
        "    stringIndexer = StringIndexer(inputCol=c, outputCol=c + \"_index\")\n",
        "    encoder = OneHotEncoder(inputCols=[stringIndexer.getOutputCol()], \\\n",
        "            outputCols=[c + \"_vec\"])    \n",
        "    stages += [stringIndexer, encoder] # Stages will be run later on"
      ],
      "metadata": {
        "id": "aFX0l7nc7Eti"
      },
      "execution_count": null,
      "outputs": []
    },
    {
      "cell_type": "markdown",
      "source": [
        "#we need to combine all of our features into one vector column.\n",
        "\n",
        "#combining numerical features and the categorical sparse vector features from before into one vector.\n",
        "\n",
        "#runing the stages as a pipeline"
      ],
      "metadata": {
        "id": "bGfQ_PlhibTU"
      }
    },
    {
      "cell_type": "code",
      "source": [
        "df.show(1)"
      ],
      "metadata": {
        "colab": {
          "base_uri": "https://localhost:8080/"
        },
        "id": "XkPfvkDqjFlp",
        "outputId": "ab04cf8c-d495-469e-8ee4-378a0ec8e594"
      },
      "execution_count": null,
      "outputs": [
        {
          "output_type": "stream",
          "name": "stdout",
          "text": [
            "+--------------------+----+-------------+---------+------+-----------+------------+-----------+-------+------+---------+-----+\n",
            "|                name|year|selling_price|km_driven|  fuel|seller_type|transmission|      owner|mileage|engine|max_power|seats|\n",
            "+--------------------+----+-------------+---------+------+-----------+------------+-----------+-------+------+---------+-----+\n",
            "|Maruti Swift Dzir...|2014|       450000|   145500|Diesel| Individual|      Manual|First Owner|   23.4|  1248|     74.0|    5|\n",
            "+--------------------+----+-------------+---------+------+-----------+------------+-----------+-------+------+---------+-----+\n",
            "only showing top 1 row\n",
            "\n"
          ]
        }
      ]
    },
    {
      "cell_type": "code",
      "source": [
        "from pyspark.ml.feature import VectorAssembler\n",
        "\n",
        "# Transform all features into a vector\n",
        "num_cols = [\"year\", \"km_driven\", \"mileage\",\"engine\", \"seats\"]\n",
        "assemblerInputs = [c + \"_vec\" for c in cat_cols] + num_cols\n",
        "assembler = VectorAssembler(inputCols=assemblerInputs, outputCol=\"features\")\n",
        "stages += [assembler]\n",
        "\n",
        "# Create pipeline and use on dataset\n",
        "pipeline = Pipeline(stages=stages)\n",
        "df = pipeline.fit(df).transform(df)"
      ],
      "metadata": {
        "id": "OgiCKAxThTnu"
      },
      "execution_count": null,
      "outputs": []
    },
    {
      "cell_type": "code",
      "source": [
        "df.show(2)"
      ],
      "metadata": {
        "colab": {
          "base_uri": "https://localhost:8080/"
        },
        "id": "51jC5vs-pbib",
        "outputId": "264524d0-10b5-4c03-a067-cff7fb5f2532"
      },
      "execution_count": null,
      "outputs": [
        {
          "output_type": "stream",
          "name": "stdout",
          "text": [
            "+--------------------+----+-------------+---------+------+-----------+------------+------------+-------+------+---------+-----+----------+------------------+----------+-------------+-----------------+---------------+------------------+----------------+-----------+-------------+--------------------+\n",
            "|                name|year|selling_price|km_driven|  fuel|seller_type|transmission|       owner|mileage|engine|max_power|seats|name_index|          name_vec|fuel_index|     fuel_vec|seller_type_index|seller_type_vec|transmission_index|transmission_vec|owner_index|    owner_vec|            features|\n",
            "+--------------------+----+-------------+---------+------+-----------+------------+------------+-------+------+---------+-----+----------+------------------+----------+-------------+-----------------+---------------+------------------+----------------+-----------+-------------+--------------------+\n",
            "|Maruti Swift Dzir...|2014|       450000|   145500|Diesel| Individual|      Manual| First Owner|   23.4|  1248|     74.0|    5|       0.0|  (1982,[0],[1.0])|       0.0|(3,[0],[1.0])|              0.0|  (2,[0],[1.0])|               0.0|   (1,[0],[1.0])|        0.0|(4,[0],[1.0])|(1997,[0,1982,198...|\n",
            "|Skoda Rapid 1.5 T...|2014|       370000|   120000|Diesel| Individual|      Manual|Second Owner|  21.14|  1498|   103.52|    5|     730.0|(1982,[730],[1.0])|       0.0|(3,[0],[1.0])|              0.0|  (2,[0],[1.0])|               0.0|   (1,[0],[1.0])|        1.0|(4,[1],[1.0])|(1997,[730,1982,1...|\n",
            "+--------------------+----+-------------+---------+------+-----------+------------+------------+-------+------+---------+-----+----------+------------------+----------+-------------+-----------------+---------------+------------------+----------------+-----------+-------------+--------------------+\n",
            "only showing top 2 rows\n",
            "\n"
          ]
        }
      ]
    },
    {
      "cell_type": "code",
      "source": [
        "df.count()"
      ],
      "metadata": {
        "colab": {
          "base_uri": "https://localhost:8080/"
        },
        "id": "U3FdzzSlmFUe",
        "outputId": "de4ebdf2-3bfd-4397-d564-3822599698f4"
      },
      "execution_count": null,
      "outputs": [
        {
          "output_type": "execute_result",
          "data": {
            "text/plain": [
              "7907"
            ]
          },
          "metadata": {},
          "execution_count": 30
        }
      ]
    },
    {
      "cell_type": "markdown",
      "source": [
        "#Train-test Split"
      ],
      "metadata": {
        "id": "VFAG3l7FoH2Y"
      }
    },
    {
      "cell_type": "markdown",
      "source": [
        "#• Split the data into train and test (80:20). Train the linear regression model using train data and evaluate the model on test data"
      ],
      "metadata": {
        "id": "CmUeHMG-ojIv"
      }
    },
    {
      "cell_type": "code",
      "source": [
        "#feature extraction\n",
        "final_data = df.select(\"features\", \"selling_price\")\n",
        "final_data.show()"
      ],
      "metadata": {
        "colab": {
          "base_uri": "https://localhost:8080/"
        },
        "id": "Q2ebrT46MZuX",
        "outputId": "f9683bd6-4c2d-4ecc-fa81-753bdf3acbd8"
      },
      "execution_count": null,
      "outputs": [
        {
          "output_type": "stream",
          "name": "stdout",
          "text": [
            "+--------------------+-------------+\n",
            "|            features|selling_price|\n",
            "+--------------------+-------------+\n",
            "|(1997,[0,1982,198...|       450000|\n",
            "|(1997,[730,1982,1...|       370000|\n",
            "|(1997,[227,1983,1...|       158000|\n",
            "|(1997,[1485,1982,...|       225000|\n",
            "|(1997,[1055,1983,...|       130000|\n",
            "|(1997,[917,1983,1...|       440000|\n",
            "|(1997,[291,1985,1...|        96000|\n",
            "|(1997,[1591,1983,...|        45000|\n",
            "|(1997,[1169,1982,...|       350000|\n",
            "|(1997,[147,1982,1...|       200000|\n",
            "|(1997,[127,1982,1...|       500000|\n",
            "|(1997,[381,1983,1...|        92000|\n",
            "|(1997,[21,1982,19...|       280000|\n",
            "|(1997,[41,1983,19...|       180000|\n",
            "|(1997,[954,1983,1...|       400000|\n",
            "|(1997,[75,1982,19...|       778000|\n",
            "|(1997,[110,1982,1...|       500000|\n",
            "|(1997,[10,1983,19...|       150000|\n",
            "|(1997,[234,1982,1...|       680000|\n",
            "|(1997,[358,1982,1...|       174000|\n",
            "+--------------------+-------------+\n",
            "only showing top 20 rows\n",
            "\n"
          ]
        }
      ]
    },
    {
      "cell_type": "code",
      "source": [
        "train , test = df.randomSplit([0.8,0.2], seed = 123)"
      ],
      "metadata": {
        "id": "dvxSw_4C1xkb"
      },
      "execution_count": null,
      "outputs": []
    },
    {
      "cell_type": "code",
      "source": [
        "print('Train dataset count:', train.count())\n",
        "print('Test dataset count:', test.count())"
      ],
      "metadata": {
        "colab": {
          "base_uri": "https://localhost:8080/"
        },
        "id": "TanpVmVj0Mow",
        "outputId": "47867c97-b785-47f3-a64f-5ed2f7ac32c1"
      },
      "execution_count": null,
      "outputs": [
        {
          "output_type": "stream",
          "name": "stdout",
          "text": [
            "Train dataset count: 6292\n",
            "Test dataset count: 1615\n"
          ]
        }
      ]
    },
    {
      "cell_type": "markdown",
      "source": [
        "#Post-split Data Processing"
      ],
      "metadata": {
        "id": "JZ2kTn7lB7Pf"
      }
    },
    {
      "cell_type": "markdown",
      "source": [
        "#Before standardization"
      ],
      "metadata": {
        "id": "MP1nRWn9D3P4"
      }
    },
    {
      "cell_type": "markdown",
      "source": [
        "#Build and Train Model"
      ],
      "metadata": {
        "id": "EVkk_xYtClxL"
      }
    },
    {
      "cell_type": "markdown",
      "source": [
        "#Evaluate Model"
      ],
      "metadata": {
        "id": "AhzMkoUdC3Pd"
      }
    },
    {
      "cell_type": "code",
      "source": [
        "# from pyspark.ml.feature import StandardScaler\n",
        "\n",
        "# # Fit scaler to train dataset\n",
        "# scaler = StandardScaler().setInputCol('features').setOutputCol('scaled_features')\n",
        "# scaler_model = scaler.fit(train)\n",
        "\n",
        "# # Scale train and test features\n",
        "# train = scaler_model.transform(train)\n",
        "# test = scaler_model.transform(test)"
      ],
      "metadata": {
        "id": "CyuUcoB3D09I"
      },
      "execution_count": null,
      "outputs": []
    },
    {
      "cell_type": "code",
      "source": [
        "from pyspark.ml.regression import LinearRegression\n",
        "\n",
        "lr = LinearRegression(featuresCol='features', labelCol='selling_price')\n",
        "lr_model = lr.fit(train)"
      ],
      "metadata": {
        "id": "3kdiQr1gEHRv"
      },
      "execution_count": null,
      "outputs": []
    },
    {
      "cell_type": "code",
      "source": [
        "train_predictions = lr_model.transform(train)\n",
        "test_predictions = lr_model.transform(test)"
      ],
      "metadata": {
        "id": "DwQwrW4ZEODJ"
      },
      "execution_count": null,
      "outputs": []
    },
    {
      "cell_type": "code",
      "source": [
        "pred_test = lr_model.evaluate(test)\n",
        "pred_test.predictions.show(5)"
      ],
      "metadata": {
        "colab": {
          "base_uri": "https://localhost:8080/"
        },
        "id": "3CeKVYv6QAkK",
        "outputId": "e2b4c622-3340-4b47-a5fb-0c7c80fbac7b"
      },
      "execution_count": null,
      "outputs": [
        {
          "output_type": "stream",
          "name": "stdout",
          "text": [
            "+--------------------+----+-------------+---------+------+-----------+------------+------------+-------+------+---------+-----+----------+-------------------+----------+-------------+-----------------+---------------+------------------+----------------+-----------+-------------+--------------------+------------------+\n",
            "|                name|year|selling_price|km_driven|  fuel|seller_type|transmission|       owner|mileage|engine|max_power|seats|name_index|           name_vec|fuel_index|     fuel_vec|seller_type_index|seller_type_vec|transmission_index|transmission_vec|owner_index|    owner_vec|            features|        prediction|\n",
            "+--------------------+----+-------------+---------+------+-----------+------------+------------+-------+------+---------+-----+----------+-------------------+----------+-------------+-----------------+---------------+------------------+----------------+-----------+-------------+--------------------+------------------+\n",
            "|Ambassador Grand ...|2008|       122000|    60000|Diesel| Individual|      Manual|Second Owner|   12.8|  1995|     52.0|    5|    1196.0|(1982,[1196],[1.0])|       0.0|(3,[0],[1.0])|              0.0|  (2,[0],[1.0])|               0.0|   (1,[0],[1.0])|        1.0|(4,[1],[1.0])|(1997,[1196,1982,...| 611788.1529958323|\n",
            "|Audi A3 35 TDI Pr...|2018|      3000000|    20000|Diesel| Individual|   Automatic| First Owner|  20.38|  1968|    143.0|    5|     777.0| (1982,[777],[1.0])|       0.0|(3,[0],[1.0])|              0.0|  (2,[0],[1.0])|               1.0|       (1,[],[])|        0.0|(4,[0],[1.0])|(1997,[777,1982,1...| 2653784.242141418|\n",
            "|Audi A4 35 TDI Pr...|2015|      1750000|    37000|Diesel|     Dealer|   Automatic| First Owner|  18.25|  1968|   187.74|    5|     397.0| (1982,[397],[1.0])|       0.0|(3,[0],[1.0])|              1.0|  (2,[1],[1.0])|               1.0|       (1,[],[])|        0.0|(4,[0],[1.0])|(1997,[397,1982,1...| 2601926.888178341|\n",
            "|Audi A4 35 TDI Pr...|2016|      1898999|    46000|Diesel|     Dealer|   Automatic| First Owner|  18.25|  1968|   187.74|    5|     397.0| (1982,[397],[1.0])|       0.0|(3,[0],[1.0])|              1.0|  (2,[1],[1.0])|               1.0|       (1,[],[])|        0.0|(4,[0],[1.0])|(1997,[397,1982,1...|2631916.5262198523|\n",
            "|Audi A6 2.0 TDI P...|2013|      2000000|    35000|Diesel| Individual|   Automatic|Second Owner|  17.68|  1968|   174.33|    5|    1204.0|(1982,[1204],[1.0])|       0.0|(3,[0],[1.0])|              0.0|  (2,[0],[1.0])|               1.0|       (1,[],[])|        1.0|(4,[1],[1.0])|(1997,[1204,1982,...|1397416.1314666197|\n",
            "+--------------------+----+-------------+---------+------+-----------+------------+------------+-------+------+---------+-----+----------+-------------------+----------+-------------+-----------------+---------------+------------------+----------------+-----------+-------------+--------------------+------------------+\n",
            "only showing top 5 rows\n",
            "\n"
          ]
        }
      ]
    },
    {
      "cell_type": "markdown",
      "source": [
        "#Compute RMSE, MAE and R2 score for the test data."
      ],
      "metadata": {
        "id": "NTir9LAlK07z"
      }
    },
    {
      "cell_type": "markdown",
      "source": [
        "#RMSE"
      ],
      "metadata": {
        "id": "LsuBFf9_866b"
      }
    },
    {
      "cell_type": "code",
      "source": [
        "from pyspark.ml.evaluation import RegressionEvaluator\n",
        "\n",
        "evaluator = RegressionEvaluator(predictionCol=\"prediction\",labelCol=\"selling_price\", metricName=\"rmse\")\n",
        "\n",
        "print(\"Train_RMSE:\", evaluator.evaluate(train_predictions))\n",
        "print(\"Test_RMSE:\", evaluator.evaluate(test_predictions))"
      ],
      "metadata": {
        "colab": {
          "base_uri": "https://localhost:8080/"
        },
        "id": "2N4nk0rF80xh",
        "outputId": "86eb8824-713c-499e-c42e-108d1fd1fb4a"
      },
      "execution_count": null,
      "outputs": [
        {
          "output_type": "stream",
          "name": "stdout",
          "text": [
            "Train_mae: 85665.04015673522\n",
            "Test_mae: 276134.5252242302\n"
          ]
        }
      ]
    },
    {
      "cell_type": "markdown",
      "source": [
        "#MAE"
      ],
      "metadata": {
        "id": "tFnXKpLY89Ma"
      }
    },
    {
      "cell_type": "code",
      "source": [
        "from pyspark.ml.evaluation import RegressionEvaluator\n",
        "\n",
        "evaluator = RegressionEvaluator(predictionCol=\"prediction\",labelCol=\"selling_price\", metricName=\"mae\")\n",
        "\n",
        "print(\"Train_mae:\", evaluator.evaluate(train_predictions))\n",
        "print(\"Test_mae:\", evaluator.evaluate(test_predictions))"
      ],
      "metadata": {
        "colab": {
          "base_uri": "https://localhost:8080/"
        },
        "id": "6nS1rpBd8pf2",
        "outputId": "ad073951-d8bd-4d98-811a-94a0954c155b"
      },
      "execution_count": null,
      "outputs": [
        {
          "output_type": "stream",
          "name": "stdout",
          "text": [
            "Train_mae: 43574.843551442245\n",
            "Test_mae: 96353.53617145077\n"
          ]
        }
      ]
    },
    {
      "cell_type": "markdown",
      "source": [
        "#R2 SCORE"
      ],
      "metadata": {
        "id": "rJHLnuSt8nVc"
      }
    },
    {
      "cell_type": "code",
      "source": [
        "from pyspark.ml.evaluation import RegressionEvaluator\n",
        "\n",
        "evaluator = RegressionEvaluator(predictionCol=\"prediction\",labelCol=\"selling_price\", metricName=\"r2\")\n",
        "\n",
        "print(\"Train_R2:\", evaluator.evaluate(train_predictions))\n",
        "print(\"Test_R2:\", evaluator.evaluate(test_predictions))"
      ],
      "metadata": {
        "colab": {
          "base_uri": "https://localhost:8080/"
        },
        "id": "vq6dJZVOEP_5",
        "outputId": "ebb5f2c0-4ed2-4942-94ee-a0ef0c00c8a4"
      },
      "execution_count": null,
      "outputs": [
        {
          "output_type": "stream",
          "name": "stdout",
          "text": [
            "Train_R2: 0.988836921152184\n",
            "Test_R2: 0.8876889222002864\n"
          ]
        }
      ]
    },
    {
      "cell_type": "markdown",
      "source": [
        "#AFTER STANDARDIZATION"
      ],
      "metadata": {
        "id": "bHZm1SEz7f3c"
      }
    },
    {
      "cell_type": "code",
      "source": [
        "from pyspark.ml.feature import StandardScaler\n",
        "\n",
        "# Fit scaler to train dataset\n",
        "scaler = StandardScaler().setInputCol('features').setOutputCol('scaled_features')\n",
        "scaler_model = scaler.fit(train)\n",
        "\n",
        "# Scale train and test features\n",
        "train = scaler_model.transform(train)\n",
        "test = scaler_model.transform(test)"
      ],
      "metadata": {
        "id": "in5NushZEWhf"
      },
      "execution_count": null,
      "outputs": []
    },
    {
      "cell_type": "code",
      "source": [
        "from pyspark.ml.regression import LinearRegression\n",
        "\n",
        "lr = LinearRegression(featuresCol='scaled_features', labelCol='selling_price')\n",
        "lr_model = lr.fit(train)"
      ],
      "metadata": {
        "id": "vX2FG0ec9UHd"
      },
      "execution_count": null,
      "outputs": []
    },
    {
      "cell_type": "code",
      "source": [
        "train_predictions = lr_model.transform(train)\n",
        "test_predictions = lr_model.transform(test)"
      ],
      "metadata": {
        "id": "5UaQnXAo9amg"
      },
      "execution_count": null,
      "outputs": []
    },
    {
      "cell_type": "code",
      "source": [
        "pred_test = lr_model.evaluate(test)\n",
        "pred_test.predictions.show(5)"
      ],
      "metadata": {
        "colab": {
          "base_uri": "https://localhost:8080/"
        },
        "id": "TQfvoyxw9eR8",
        "outputId": "0957c2ec-634c-405d-b314-03e68f5c6282"
      },
      "execution_count": null,
      "outputs": [
        {
          "output_type": "stream",
          "name": "stdout",
          "text": [
            "+--------------------+----+-------------+---------+------+-----------+------------+------------+-------+------+---------+-----+----------+-------------------+----------+-------------+-----------------+---------------+------------------+----------------+-----------+-------------+--------------------+--------------------+------------------+\n",
            "|                name|year|selling_price|km_driven|  fuel|seller_type|transmission|       owner|mileage|engine|max_power|seats|name_index|           name_vec|fuel_index|     fuel_vec|seller_type_index|seller_type_vec|transmission_index|transmission_vec|owner_index|    owner_vec|            features|     scaled_features|        prediction|\n",
            "+--------------------+----+-------------+---------+------+-----------+------------+------------+-------+------+---------+-----+----------+-------------------+----------+-------------+-----------------+---------------+------------------+----------------+-----------+-------------+--------------------+--------------------+------------------+\n",
            "|Ambassador Grand ...|2008|       122000|    60000|Diesel| Individual|      Manual|Second Owner|   12.8|  1995|     52.0|    5|    1196.0|(1982,[1196],[1.0])|       0.0|(3,[0],[1.0])|              0.0|  (2,[0],[1.0])|               0.0|   (1,[0],[1.0])|        1.0|(4,[1],[1.0])|(1997,[1196,1982,...|(1997,[1196,1982,...| 611782.5839857534|\n",
            "|Audi A3 35 TDI Pr...|2018|      3000000|    20000|Diesel| Individual|   Automatic| First Owner|  20.38|  1968|    143.0|    5|     777.0| (1982,[777],[1.0])|       0.0|(3,[0],[1.0])|              0.0|  (2,[0],[1.0])|               1.0|       (1,[],[])|        0.0|(4,[0],[1.0])|(1997,[777,1982,1...|(1997,[777,1982,1...|2653785.6861810014|\n",
            "|Audi A4 35 TDI Pr...|2015|      1750000|    37000|Diesel|     Dealer|   Automatic| First Owner|  18.25|  1968|   187.74|    5|     397.0| (1982,[397],[1.0])|       0.0|(3,[0],[1.0])|              1.0|  (2,[1],[1.0])|               1.0|       (1,[],[])|        0.0|(4,[0],[1.0])|(1997,[397,1982,1...|(1997,[397,1982,1...|2601931.6902024373|\n",
            "|Audi A4 35 TDI Pr...|2016|      1898999|    46000|Diesel|     Dealer|   Automatic| First Owner|  18.25|  1968|   187.74|    5|     397.0| (1982,[397],[1.0])|       0.0|(3,[0],[1.0])|              1.0|  (2,[1],[1.0])|               1.0|       (1,[],[])|        0.0|(4,[0],[1.0])|(1997,[397,1982,1...|(1997,[397,1982,1...|2631921.3252032325|\n",
            "|Audi A6 2.0 TDI P...|2013|      2000000|    35000|Diesel| Individual|   Automatic|Second Owner|  17.68|  1968|   174.33|    5|    1204.0|(1982,[1204],[1.0])|       0.0|(3,[0],[1.0])|              0.0|  (2,[0],[1.0])|               1.0|       (1,[],[])|        1.0|(4,[1],[1.0])|(1997,[1204,1982,...|(1997,[1204,1982,...| 1397428.478488408|\n",
            "+--------------------+----+-------------+---------+------+-----------+------------+------------+-------+------+---------+-----+----------+-------------------+----------+-------------+-----------------+---------------+------------------+----------------+-----------+-------------+--------------------+--------------------+------------------+\n",
            "only showing top 5 rows\n",
            "\n"
          ]
        }
      ]
    },
    {
      "cell_type": "markdown",
      "source": [
        "#RMSE"
      ],
      "metadata": {
        "id": "FFvwPBrT9jT4"
      }
    },
    {
      "cell_type": "code",
      "source": [
        "from pyspark.ml.evaluation import RegressionEvaluator\n",
        "\n",
        "evaluator = RegressionEvaluator(predictionCol=\"prediction\",labelCol=\"selling_price\", metricName=\"rmse\")\n",
        "\n",
        "print(\"Train_RMSE:\", evaluator.evaluate(train_predictions))\n",
        "print(\"Test_RMSE:\", evaluator.evaluate(test_predictions))"
      ],
      "metadata": {
        "colab": {
          "base_uri": "https://localhost:8080/"
        },
        "id": "XpqM_udP9iVa",
        "outputId": "0b54f319-2a75-4776-e51c-534d3e0a82a3"
      },
      "execution_count": null,
      "outputs": [
        {
          "output_type": "stream",
          "name": "stdout",
          "text": [
            "Train_RMSE: 85665.04051589577\n",
            "Test_RMSE: 276140.2726306039\n"
          ]
        }
      ]
    },
    {
      "cell_type": "markdown",
      "source": [
        "#MAE"
      ],
      "metadata": {
        "id": "KQGoEJgE9lHk"
      }
    },
    {
      "cell_type": "code",
      "source": [
        "from pyspark.ml.evaluation import RegressionEvaluator\n",
        "\n",
        "evaluator = RegressionEvaluator(predictionCol=\"prediction\",labelCol=\"selling_price\", metricName=\"rmse\")\n",
        "\n",
        "print(\"Train_MAE:\", evaluator.evaluate(train_predictions))\n",
        "print(\"Test_MAE:\", evaluator.evaluate(test_predictions))"
      ],
      "metadata": {
        "colab": {
          "base_uri": "https://localhost:8080/"
        },
        "id": "OWt1Yx839l0Y",
        "outputId": "ab43aebd-7d8c-4952-9097-9005e084fbf4"
      },
      "execution_count": null,
      "outputs": [
        {
          "output_type": "stream",
          "name": "stdout",
          "text": [
            "Train_MAE: 85665.04051589577\n",
            "Test_MAE: 276140.2726306039\n"
          ]
        }
      ]
    },
    {
      "cell_type": "markdown",
      "source": [
        "#R2"
      ],
      "metadata": {
        "id": "9kMpEaue-KFM"
      }
    },
    {
      "cell_type": "code",
      "source": [
        "from pyspark.ml.evaluation import RegressionEvaluator\n",
        "\n",
        "evaluator = RegressionEvaluator(predictionCol=\"prediction\",labelCol=\"selling_price\", metricName=\"r2\")\n",
        "\n",
        "print(\"Train_R2:\", evaluator.evaluate(train_predictions))\n",
        "print(\"Test_R2:\", evaluator.evaluate(test_predictions))"
      ],
      "metadata": {
        "colab": {
          "base_uri": "https://localhost:8080/"
        },
        "id": "2TSlMcEs9zIG",
        "outputId": "44ea554f-236d-4088-eadd-54a380b8cff7"
      },
      "execution_count": null,
      "outputs": [
        {
          "output_type": "stream",
          "name": "stdout",
          "text": [
            "Train_R2: 0.988836921058579\n",
            "Test_R2: 0.8876842469129678\n"
          ]
        }
      ]
    },
    {
      "cell_type": "code",
      "source": [],
      "metadata": {
        "id": "3imT8DFm-SNO"
      },
      "execution_count": null,
      "outputs": []
    }
  ]
}

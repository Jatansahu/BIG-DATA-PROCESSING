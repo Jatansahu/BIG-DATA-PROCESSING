{
  "nbformat": 4,
  "nbformat_minor": 0,
  "metadata": {
    "colab": {
      "provenance": []
    },
    "kernelspec": {
      "name": "python3",
      "display_name": "Python 3"
    },
    "language_info": {
      "name": "python"
    }
  },
  "cells": [
    {
      "cell_type": "markdown",
      "source": [
        "IT 609 - Big Data Processing Lab 1\n",
        "\n",
        "DATE -February 6, 2023\n",
        "\n",
        "**ID=202218061**\n",
        "\n",
        "**NAME - JATAN SAHU**"
      ],
      "metadata": {
        "id": "l5kCINivgJeM"
      }
    },
    {
      "cell_type": "markdown",
      "source": [
        "#1 Aim\n",
        "• To work on twitter streaming API using tweepy\n",
        "\n",
        "• Perform real-time sentiment analysis using TextBlob"
      ],
      "metadata": {
        "id": "J2Sro_7bgVSA"
      }
    },
    {
      "cell_type": "markdown",
      "source": [
        "#2 Practical Objectives\n",
        "• Create a Twitter developer account and get access tokens, bearer tokens,\n",
        "API tokens.\n",
        "\n",
        "• Create a Listener class which can stream the tweets in real time.\n",
        "\n",
        "• Stream the tweets from handles of Yan Lee Cunn, Adani (20 tweets from\n",
        "each handles)\n",
        "\n",
        "• Stream the tweets containing keywords ”adani”, ”unionbudget” and apply\n",
        "textblob to find the sentiments of the tweets."
      ],
      "metadata": {
        "id": "x_wmeq7RgYlo"
      }
    },
    {
      "cell_type": "markdown",
      "source": [
        "#3 Submission guidelines\n",
        "• Submit a jupyter notebook file containing the code for streaming the data.\n",
        "Put proper comments in between codes for proper understanding.\n",
        "\n",
        "• print the dataframes as output especially the tweets as well the corre-\n",
        "sponding sentiments."
      ],
      "metadata": {
        "id": "NTsR297fjve5"
      }
    },
    {
      "cell_type": "markdown",
      "source": [
        "#4 References\n",
        "\n",
        "1. \n",
        " https://gist.github.com/sparack/e8021298115f4a1289a637e25f284daf#streaming-tweets-in-real-time-using-the-1-sampled-stream\n",
        "\n",
        "\n",
        "2. Docs\n",
        "\n",
        "https://docs.tweepy.org/en/stable/streamingclient.html\n",
        "\n",
        "3. FOR SENTIMENT ANALYSIS\n",
        "\n",
        "https://towardsdatascience.com/step-by-step-twitter-sentiment-analysis-in-python-d6f650ade58d"
      ],
      "metadata": {
        "id": "IrxXHdyEjz3p"
      }
    },
    {
      "cell_type": "code",
      "source": [
        "pip install tweepy --upgrade"
      ],
      "metadata": {
        "colab": {
          "base_uri": "https://localhost:8080/"
        },
        "id": "vGysikz92kGI",
        "outputId": "0599c623-6806-4188-d728-f551dda3ef6e"
      },
      "execution_count": null,
      "outputs": [
        {
          "output_type": "stream",
          "name": "stdout",
          "text": [
            "Looking in indexes: https://pypi.org/simple, https://us-python.pkg.dev/colab-wheels/public/simple/\n",
            "Requirement already satisfied: tweepy in /usr/local/lib/python3.8/dist-packages (4.12.1)\n",
            "Requirement already satisfied: requests-oauthlib<2,>=1.2.0 in /usr/local/lib/python3.8/dist-packages (from tweepy) (1.3.1)\n",
            "Requirement already satisfied: requests<3,>=2.27.0 in /usr/local/lib/python3.8/dist-packages (from tweepy) (2.28.2)\n",
            "Requirement already satisfied: oauthlib<4,>=3.2.0 in /usr/local/lib/python3.8/dist-packages (from tweepy) (3.2.2)\n",
            "Requirement already satisfied: urllib3<1.27,>=1.21.1 in /usr/local/lib/python3.8/dist-packages (from requests<3,>=2.27.0->tweepy) (1.24.3)\n",
            "Requirement already satisfied: certifi>=2017.4.17 in /usr/local/lib/python3.8/dist-packages (from requests<3,>=2.27.0->tweepy) (2022.12.7)\n",
            "Requirement already satisfied: charset-normalizer<4,>=2 in /usr/local/lib/python3.8/dist-packages (from requests<3,>=2.27.0->tweepy) (2.1.1)\n",
            "Requirement already satisfied: idna<4,>=2.5 in /usr/local/lib/python3.8/dist-packages (from requests<3,>=2.27.0->tweepy) (2.10)\n"
          ]
        }
      ]
    },
    {
      "cell_type": "code",
      "source": [
        "import tweepy"
      ],
      "metadata": {
        "id": "u2uls9xY2srL"
      },
      "execution_count": null,
      "outputs": []
    },
    {
      "cell_type": "markdown",
      "source": [
        "**1.Create a Twitter developer account and get access tokens, bearer tokens, API tokens.**"
      ],
      "metadata": {
        "id": "IUJ2xbC7ijlq"
      }
    },
    {
      "cell_type": "code",
      "source": [
        "api_key=\"ttuX5UA4JzeCzldZXolez1HnI\",   #API / Consumer Key \n",
        "api_secret=\"RTHnVIxtuYWE70asdczL5Kz7nqUqzJXc0M0lKUrNt6sO7NHVpt\",   #API / Consumer Secret\n",
        "bearer_token='AAAAAAAAAAAAAAAAAAAAAK9elgEAAAAAcfaAag4I3wbEmdUMjDTmAdbQykk%3DseQbFbUkhTOFUxiRSflMbmg5iD3t7h5Yizu5we1pEi4QplWDN0'\n",
        "access_token=\"851324325768638464-xFA1YWPRJ2tTrLqu3mT3aNi1kmXZXSj\",    #Access Token \n",
        "access_token_secret=\"hdakwlZbvRRHDZ0QFFpGIElM4IVOUhiAyMgIzhTnTEx56\"    #Access Token Secret here\n"
      ],
      "metadata": {
        "id": "w6nSlEdAiY3A"
      },
      "execution_count": null,
      "outputs": []
    },
    {
      "cell_type": "code",
      "source": [
        "client = tweepy.Client(bearer_token,api_key,api_secret,access_token,access_token_secret)"
      ],
      "metadata": {
        "id": "HZE2s8A-PWtr"
      },
      "execution_count": null,
      "outputs": []
    },
    {
      "cell_type": "markdown",
      "source": [
        " **2Create a Listener class which can stream the tweets in real time.**"
      ],
      "metadata": {
        "id": "g_MalDIhX9ud"
      }
    },
    {
      "cell_type": "code",
      "source": [
        "#CREATOR LISTNER CLASS\n",
        "class Listener(tweepy.StreamingClient):\n",
        "  tweets=[]\n",
        "  username=[]\n",
        "  limit=5\n",
        "  \n",
        "  i=0\n",
        "  \n",
        "  #Creating function connection and disconnection\n",
        "  def on_connect(self):\n",
        "    print(\"connected\")\n",
        "  #Appending all the tweets \n",
        "  def on_tweet(self,tweet):\n",
        "    self.tweets.append(tweet.data)\n",
        "\n",
        "    if len(self.tweets)  == self.limit:\n",
        "      self.disconnect()\n",
        "    print(self.tweets[self.i])\n",
        "    tweet_text= self.tweets[self.i]['text']\n",
        "    self.i += 1\n"
      ],
      "metadata": {
        "id": "LA_SfFkD4lQA"
      },
      "execution_count": 43,
      "outputs": []
    },
    {
      "cell_type": "code",
      "source": [
        "stream = Listener(bearer_token=bearer_token)\n",
        "if stream.get_rules().data is not None:\n",
        "    stream.delete_rules(stream.get_rules().data)"
      ],
      "metadata": {
        "id": "WYRH4Zgm_J2u"
      },
      "execution_count": 44,
      "outputs": []
    },
    {
      "cell_type": "code",
      "source": [
        "#stream.add_rules(tweepy.StreamRule('from:gautam_adani -is:retweet'))\n",
        "stream.add_rules(tweepy.StreamRule('ViratKohli'))\n",
        "stream.filter()\n",
        "\n"
      ],
      "metadata": {
        "colab": {
          "base_uri": "https://localhost:8080/"
        },
        "id": "ZG5X37bfAfX-",
        "outputId": "f7c9c09e-2543-412e-b6dd-6ea8bae2a680"
      },
      "execution_count": 45,
      "outputs": [
        {
          "output_type": "stream",
          "name": "stdout",
          "text": [
            "connected\n",
            "{'edit_history_tweet_ids': ['1624032162491076609'], 'id': '1624032162491076609', 'text': '#ViratKohli𓃵 https://t.co/vqBTGpVRPq'}\n",
            "{'edit_history_tweet_ids': ['1624032218049056768'], 'id': '1624032218049056768', 'text': 'அந்த சத்தம் \\n\\n #பாஜக \\n#DMKFails #திருப்பூர் #ViratKohli𓃵 #RohitSharma #sivangi #BJP https://t.co/y9GeN3ueX8'}\n",
            "{'edit_history_tweet_ids': ['1624032225481179136'], 'id': '1624032225481179136', 'text': 'RT @pokemon_squirt: #RohitSharma𓃵 #ViratKohli𓃵 #AUSvsIND Rare Sighting of Inkyy Gold 🍯 Truly Under The Influence 😈 +1 Team Breezy 🌊 #ฟรีนเบ…'}\n",
            "{'edit_history_tweet_ids': ['1624032228106964992'], 'id': '1624032228106964992', 'text': 'RT @RainaMahi73: This Moment Is Seperate Fanbase 😂\\n@stevesmith49 @ImIshant @imVkohli \\nBorder Gavaskar Trophy 2017 🔥\\n#BGT | #SteveSmith | #i…'}\n"
          ]
        },
        {
          "output_type": "stream",
          "name": "stderr",
          "text": [
            "ERROR:tweepy.streaming:Stream connection closed by Twitter\n"
          ]
        },
        {
          "output_type": "stream",
          "name": "stdout",
          "text": [
            "{'edit_history_tweet_ids': ['1624032227934998528'], 'id': '1624032227934998528', 'text': '@RishabhPant17\\nLatest post &amp; update\\n\\n#RishabhPant #bcci\\n#AUSvsIND #SidKiara #BGT23\\n#ViratKohli𓃵 #RohitSharma\\nhttps://t.co/apLKyxOH54'}\n"
          ]
        }
      ]
    },
    {
      "cell_type": "code",
      "source": [
        "stream.tweets"
      ],
      "metadata": {
        "colab": {
          "base_uri": "https://localhost:8080/"
        },
        "id": "oVqaToapcAWi",
        "outputId": "5a736dd8-731c-421f-e15d-ba1ad96ff28f"
      },
      "execution_count": 46,
      "outputs": [
        {
          "output_type": "execute_result",
          "data": {
            "text/plain": [
              "[{'edit_history_tweet_ids': ['1624032162491076609'],\n",
              "  'id': '1624032162491076609',\n",
              "  'text': '#ViratKohli𓃵 https://t.co/vqBTGpVRPq'},\n",
              " {'edit_history_tweet_ids': ['1624032218049056768'],\n",
              "  'id': '1624032218049056768',\n",
              "  'text': 'அந்த சத்தம் \\n\\n #பாஜக \\n#DMKFails #திருப்பூர் #ViratKohli𓃵 #RohitSharma #sivangi #BJP https://t.co/y9GeN3ueX8'},\n",
              " {'edit_history_tweet_ids': ['1624032225481179136'],\n",
              "  'id': '1624032225481179136',\n",
              "  'text': 'RT @pokemon_squirt: #RohitSharma𓃵 #ViratKohli𓃵 #AUSvsIND Rare Sighting of Inkyy Gold 🍯 Truly Under The Influence 😈 +1 Team Breezy 🌊 #ฟรีนเบ…'},\n",
              " {'edit_history_tweet_ids': ['1624032228106964992'],\n",
              "  'id': '1624032228106964992',\n",
              "  'text': 'RT @RainaMahi73: This Moment Is Seperate Fanbase 😂\\n@stevesmith49 @ImIshant @imVkohli \\nBorder Gavaskar Trophy 2017 🔥\\n#BGT | #SteveSmith | #i…'},\n",
              " {'edit_history_tweet_ids': ['1624032227934998528'],\n",
              "  'id': '1624032227934998528',\n",
              "  'text': '@RishabhPant17\\nLatest post &amp; update\\n\\n#RishabhPant #bcci\\n#AUSvsIND #SidKiara #BGT23\\n#ViratKohli𓃵 #RohitSharma\\nhttps://t.co/apLKyxOH54'}]"
            ]
          },
          "metadata": {},
          "execution_count": 46
        }
      ]
    },
    {
      "cell_type": "markdown",
      "source": [
        "#3.Stream the tweets from handles of Yan Lee Cunn, Adani (20 tweets from each handles)"
      ],
      "metadata": {
        "id": "V63Zi8gqaMM4"
      }
    },
    {
      "cell_type": "code",
      "source": [
        "#Requesting tweets from handels but they are not tweeting at that time\n",
        "stream.add_rules(tweepy.StreamRule('from:@ylecun -is:retweet'))\n",
        "stream.filter()"
      ],
      "metadata": {
        "id": "c6ueW00fbBf-"
      },
      "execution_count": null,
      "outputs": []
    },
    {
      "cell_type": "code",
      "source": [
        "stream.add_rules(tweepy.StreamRule('from:gautam_adani -is:retweet'))\n",
        "stream.filter()"
      ],
      "metadata": {
        "id": "AKwFtQ_Ba4z0"
      },
      "execution_count": null,
      "outputs": []
    },
    {
      "cell_type": "markdown",
      "source": [
        "**4Stream the tweets containing keywords ”adani”, ”unionbudget” and apply\n",
        "textblob to find the sentiments of the tweets.**"
      ],
      "metadata": {
        "id": "MHOJKHkJaoZ3"
      }
    },
    {
      "cell_type": "code",
      "source": [
        "from textblob import TextBlob"
      ],
      "metadata": {
        "id": "NteHtZdCbb6y"
      },
      "execution_count": 50,
      "outputs": []
    },
    {
      "cell_type": "code",
      "source": [
        "class Listener(tweepy.StreamingClient):\n",
        "  tweets=[]\n",
        "  username=[]\n",
        "  limit=200\n",
        "  \n",
        "  i=0\n",
        "\n",
        "  def on_connect(self):\n",
        "    print(\"connected\")\n",
        "  def on_tweet(self,tweet):\n",
        "    self.tweets.append(tweet.data)\n",
        "\n",
        "    if len(self.tweets)  == self.limit:\n",
        "      self.disconnect()\n",
        "    print(self.tweets[self.i])\n",
        "    \n",
        "    tweet_text= self.tweets[self.i]['text']\n",
        "    self.i += 1\n",
        "    print('sentiment:',self.sentiment_tweet(tweet_text))\n",
        "  #Conditions for sentiment analysis\n",
        "  def sentiment_tweet(self,text_tweet):\n",
        "    polarity=TextBlob(text_tweet).sentiment.polarity\n",
        "    if polarity<0:\n",
        "      return 'Negative'\n",
        "\n",
        "    elif polarity ==0:\n",
        "      return 'Neutral'\n",
        "\n",
        "    else:\n",
        "      return 'Positive'\n",
        "\n",
        "stream = Listener(bearer_token = bearer_token)\n",
        "if stream.get_rules().data is not None:\n",
        "  stream.delete_rules(stream.get_rules().data)\n",
        "    \n"
      ],
      "metadata": {
        "id": "YwofUDi5csAf"
      },
      "execution_count": 54,
      "outputs": []
    },
    {
      "cell_type": "code",
      "source": [
        "stream.add_rules(tweepy.StreamRule('adani OR unionbudget'))\n",
        "stream.filter()\n"
      ],
      "metadata": {
        "id": "wdIGcJUrAwj2",
        "colab": {
          "base_uri": "https://localhost:8080/"
        },
        "outputId": "0dde9f88-09a5-4c2f-f9e2-5726bdb105ee"
      },
      "execution_count": 55,
      "outputs": [
        {
          "output_type": "stream",
          "name": "stdout",
          "text": [
            "connected\n",
            "{'edit_history_tweet_ids': ['1624035563656597504'], 'id': '1624035563656597504', 'text': 'RT @ysathishreddy: On 8th, Modi says tap water is given to 8Cr families.\\nOn 9th, The same Modi says it’s given to 11Cr families! \\n\\nThe lies…'}\n",
            "sentiment: Neutral\n",
            "{'edit_history_tweet_ids': ['1624035550394032135'], 'id': '1624035550394032135', 'text': 'RT @MahuaMoitra: Bloomberg out with column talking about how some FPIs own nothing but Adani stock. Didn’t sell when price jumped 18x or wh…'}\n",
            "sentiment: Positive\n",
            "{'edit_history_tweet_ids': ['1624035566479376384'], 'id': '1624035566479376384', 'text': 'RT @IYC: Govt has no funds for people but is pouring crores into the Adani group, and despite being exposed is continuously hindering a JPC…'}\n",
            "sentiment: Neutral\n",
            "{'edit_history_tweet_ids': ['1624035568089972736'], 'id': '1624035568089972736', 'text': \"RT @pbhushan1: Modi's response to Rahul's allegations on his relationship with Adani &amp; facilitating the #AdaniScam2023.\\nHundreds of crores…\"}\n",
            "sentiment: Neutral\n",
            "{'edit_history_tweet_ids': ['1624035571315384321'], 'id': '1624035571315384321', 'text': '@waglenikhil Now he calls PM Modi a Goonda..\\nI can understand his pain. All urban naxals, disruptive elements and anarchists are getting exposed.\\nAuthorities need to make a note of this abusive person and take appropriate action against him.'}\n",
            "sentiment: Positive\n",
            "{'edit_history_tweet_ids': ['1624035575832666112'], 'id': '1624035575832666112', 'text': '@DharaniBRS @KTRBRS @JAGANBRS @Krishank_BRS @ysathishreddy @BRSparty @RaoKavitha @bandisanjay_bjp @BJPITCellTS https://t.co/g2IF5taU41'}\n",
            "sentiment: Neutral\n",
            "{'edit_history_tweet_ids': ['1624035578487672832'], 'id': '1624035578487672832', 'text': '@DivyaPandit_ Modi rss adani teeno h'}\n",
            "sentiment: Neutral\n",
            "{'edit_history_tweet_ids': ['1624035581813719041'], 'id': '1624035581813719041', 'text': 'कुछ भारत विरोधी विदेशियों और भारतीय लिबरल लॉबी ने भारतीय बाजारों को निशाना बनाया क्योंकि स्टॉक (शेयर) 📈 किसी भी कंपनी को टार्गेट करने के लिए बहुत संवेदनशील बिंदु होते हैं। \\n\\nएक गहरी साजिश❗\\n@shwait_malik @ashokepandit @AshwiniUpadhyay @MajorPoonia @TajinderBagga @KapilMishra_IND https://t.co/vBpLWIWDCC'}\n",
            "sentiment: Neutral\n",
            "{'edit_history_tweet_ids': ['1624035583978008576'], 'id': '1624035583978008576', 'text': 'RT @MediaHarshVT: #Budget पिछले साल का कैसे कोई पढ़ सकता है ? ज्ञात इतिहास में ऐसी दूसरी घटना नहीं है। मुझे स्पष्ट तौर पर लगता है कि, राहुल…'}\n",
            "sentiment: Neutral\n",
            "{'edit_history_tweet_ids': ['1624035580173750272'], 'id': '1624035580173750272', 'text': 'RT @rohanduaT02: Embattled-business tycoon Gautam Adani hires world’s most expensive law firm to fight his case against Hindenburg allegati…'}\n",
            "sentiment: Negative\n",
            "{'edit_history_tweet_ids': ['1624035594614501379'], 'id': '1624035594614501379', 'text': \"@PTI_News Needful 😂, trust me bro. It's time for the #SupremeCourt  to do the needful and make these regulatory bodies accountable for not doing their job.\"}\n",
            "sentiment: Neutral\n",
            "{'edit_history_tweet_ids': ['1624035593390002177'], 'id': '1624035593390002177', 'text': 'RT @AbhimanyuSilwal: #चौकसी करने वाला #चौकीदार @narendramodi चोरों @gautam_adani @_MukeshAmbani का #भागीदार हो गया. 2014 के बाद चौकीदारी के…'}\n",
            "sentiment: Neutral\n",
            "{'edit_history_tweet_ids': ['1624035594417623043'], 'id': '1624035594417623043', 'text': 'RT @manickamtagore: Congress &amp; DMK members walked out in protest against the reply of Health minister on Madurai AIIMS in Loksabha. \\nThe Ar…'}\n",
            "sentiment: Neutral\n",
            "{'edit_history_tweet_ids': ['1624035594145001472'], 'id': '1624035594145001472', 'text': 'RT @rubi_pathan: मोदी जी के मुंह पर ADANI नाम की चेन है, \\nइसीलिये ही मोदी मौन है...!!!\\n\\nकौन कौन सहमत है इस बात से ? https://t.co/p6yofLFqOv'}\n",
            "sentiment: Neutral\n",
            "{'edit_history_tweet_ids': ['1624035599987675137'], 'id': '1624035599987675137', 'text': 'RT @Jairam_Ramesh: Here is HAHK (Hum Adanike Hain Kaun)-6, the sixth in the series of questions to the PM on the PM-linked Adani MahaMegaSc…'}\n",
            "sentiment: Neutral\n",
            "{'edit_history_tweet_ids': ['1624035599186563072'], 'id': '1624035599186563072', 'text': 'RT @MahuaMoitra: Oh &amp; btw Mr. Adani, Sir - don’t waste time sending all your Delhi stooges behind me . \\nI am NOT being funded by Reliance.…'}\n",
            "sentiment: Negative\n",
            "{'edit_history_tweet_ids': ['1624035601505988609'], 'id': '1624035601505988609', 'text': '@rakhitripathi Adani ne akele ne hamare J&amp;K Bank se 450 crore liya hai usko samjaya hota hai apko lat kuu lagi @sudhirchaudhary'}\n",
            "sentiment: Neutral\n",
            "{'edit_history_tweet_ids': ['1624035609043144704'], 'id': '1624035609043144704', 'text': 'RT @MahuaMoitra: Bloomberg out with column talking about how some FPIs own nothing but Adani stock. Didn’t sell when price jumped 18x or wh…'}\n",
            "sentiment: Positive\n",
            "{'edit_history_tweet_ids': ['1624035609928171526'], 'id': '1624035609928171526', 'text': 'RT @PKakkar_: • कोयले की प्रायोजित कमी create करो। \\n• दोस्त से कोयला 0 ड्यूटी पर इंपोर्ट करवाओ। \\n• सारे स्टेट्स को बोलो Adani का कोयला ख़री…'}\n",
            "sentiment: Neutral\n",
            "{'edit_history_tweet_ids': ['1624035608489525249'], 'id': '1624035608489525249', 'text': 'RT @rssurjewala: The Rating Agency, Moody’s changes the outlook of four #Adani companies to “negative”.\\n\\nNSCI,\\nDow Jones,\\nNorway’s Sovereig…'}\n",
            "sentiment: Negative\n",
            "{'edit_history_tweet_ids': ['1624035620833329154'], 'id': '1624035620833329154', 'text': 'RT @SarkarSupriyo: Do you remember in 2020,  six cases were on trial against Adani companies?\\nCoincidentally Adani had lost all these cases…'}\n",
            "sentiment: Neutral\n",
            "{'edit_history_tweet_ids': ['1624035625291911169'], 'id': '1624035625291911169', 'text': '@AamAadmiParty AAP ke aane ke baad .. Punjab Ka Haal 👇\\n\\nhttps://t.co/3XexHjU124'}\n",
            "sentiment: Neutral\n",
            "{'edit_history_tweet_ids': ['1624035623601602561'], 'id': '1624035623601602561', 'text': 'RT @s_aadhavan: @MahuaMoitra @TotalEnergies @LICIndiaForever What about adani venture in Bengal will it be packed out like Tata'}\n",
            "sentiment: Neutral\n",
            "{'edit_history_tweet_ids': ['1624035627153981449'], 'id': '1624035627153981449', 'text': 'RT @SupriyaShrinate: “Coming together is a beginning \\n\\nKeeping together is progress \\n\\nWorking together is success”\\n\\nAdani Ji Narendra Modi…'}\n",
            "sentiment: Positive\n",
            "{'edit_history_tweet_ids': ['1624035629456850944'], 'id': '1624035629456850944', 'text': 'Excellent research by @TEAMYPSS, by which we get to know about these manipulators\\n\\n@rahulroushan @swati_gs\\n@prachyam7 @unsubtledesi\\n#HindenburgExposed https://t.co/c3rIipeqzp'}\n",
            "sentiment: Positive\n",
            "{'edit_history_tweet_ids': ['1624035632057298944'], 'id': '1624035632057298944', 'text': 'RT @AamAadmiParty: Adani का बढ़ाया व्यापार, देश का किया बंटाधार!\\nवाह रे Modi सरकार! https://t.co/TChe8HKegP'}\n",
            "sentiment: Neutral\n",
            "{'edit_history_tweet_ids': ['1624035635182071809'], 'id': '1624035635182071809', 'text': 'RT @RadhikaBarman5: 18 remarks by @RahulGandhi in LS expunged:\\n1. Every question asked of PM- deleted!\\n2. All references to the relationshi…'}\n",
            "sentiment: Neutral\n",
            "{'edit_history_tweet_ids': ['1624035635244990464'], 'id': '1624035635244990464', 'text': '@AamAadmiParty Abe gawar party pata bhi hai corona ki wjh se desh ka kya haal hua tha aaj desh 5th biggest economy hai kabhi sacchai pe to bola kar gawaar'}\n",
            "sentiment: Neutral\n",
            "{'edit_history_tweet_ids': ['1624035639917412353'], 'id': '1624035639917412353', 'text': 'RT @niayayakkural: The history of Adani Brothers! https://t.co/2NDt9TrnS9'}\n",
            "sentiment: Neutral\n",
            "{'edit_history_tweet_ids': ['1624035638948552704'], 'id': '1624035638948552704', 'text': 'RT @MahuaMoitra: Bloomberg out with column talking about how some FPIs own nothing but Adani stock. Didn’t sell when price jumped 18x or wh…'}\n",
            "sentiment: Positive\n",
            "{'edit_history_tweet_ids': ['1624035640827600896'], 'id': '1624035640827600896', 'text': 'RT @Praneshvjcbe: Norway wealth fund has sold its stakes in Adani companies. https://t.co/D2Zjq59Usk'}\n",
            "sentiment: Neutral\n",
            "{'edit_history_tweet_ids': ['1624035641578381312'], 'id': '1624035641578381312', 'text': '@Himansh21211828 Adani as a person is very good. He takes good care of his people and trusts them a lot. No doubt Modi has helped him a lot in his rise to 3rd richest person of the world. Present sunami will be over one day and he will rise back so long Modi’s support is with him.'}\n",
            "sentiment: Positive\n",
            "{'edit_history_tweet_ids': ['1624035641129574401'], 'id': '1624035641129574401', 'text': 'Adani group hires US legal firm Wachtell in fight against Hindenburg Research\\n\\n#Adani #AdaniGroup #AdaniEnterprises\\n#AdaniPorts #AdaniPower #adanigreenenergy \\n#Wachtell #Lipton #Rosen #Katz https://t.co/NAY04Tu0Eg'}\n",
            "sentiment: Neutral\n",
            "{'edit_history_tweet_ids': ['1624035644292104192'], 'id': '1624035644292104192', 'text': \"RT @Indian10000000: Lok Sabha speaker can expunge @RahulGandhi 's remarks on M0di Adani nexus but the video is there for all to see\\n\\nThere…\"}\n",
            "sentiment: Neutral\n",
            "{'edit_history_tweet_ids': ['1624035651350921218'], 'id': '1624035651350921218', 'text': \"Norway's sovereign wealth fund sold all stakes in Adani companies - Markets Insider: https://t.co/2EgdfAJjwi #CorpGov #ESG\"}\n",
            "sentiment: Neutral\n",
            "{'edit_history_tweet_ids': ['1624035651095236608'], 'id': '1624035651095236608', 'text': 'RT @TV9Bharatvarsh: अडानी को फिर झटका, 55 हजार करोड़ डूबे, दो दिन में टॉप-20 से आउट\\n#GautamAdani #AdaniGroup \\nhttps://t.co/XC0XVvXJAB'}\n",
            "sentiment: Neutral\n",
            "{'edit_history_tweet_ids': ['1624035647546880000'], 'id': '1624035647546880000', 'text': 'RT @HarisButt_says: Adani has hired Wachtell,one of the most expensive law firms in the US to fight against allegations made by short selle…'}\n",
            "sentiment: Neutral\n",
            "{'edit_history_tweet_ids': ['1624035629318430720'], 'id': '1624035629318430720', 'text': '@pbhushan1 Adani pe hamla desh pe hamla'}\n",
            "sentiment: Neutral\n",
            "{'edit_history_tweet_ids': ['1624035649849524226'], 'id': '1624035649849524226', 'text': 'RT @GulfGiants: Celebrations are in full swing for the #Giants!\\xa0🎉🥳\\n\\n#SWvGG #ALeagueApart #DPWorldILT20 #Cricket #Adani #BringItOn\\xa0@ILT20Off…'}\n",
            "sentiment: Positive\n",
            "{'edit_history_tweet_ids': ['1624035652169003009'], 'id': '1624035652169003009', 'text': 'RT @t_d_h_nair: BJP MPs were asking for proof of Modi, his government and various BJP state governments extending undue favours to the Adan…'}\n",
            "sentiment: Neutral\n",
            "{'edit_history_tweet_ids': ['1624035652412264449'], 'id': '1624035652412264449', 'text': 'RT @MediaHarshVT: #Budget पिछले साल का कैसे कोई पढ़ सकता है ? ज्ञात इतिहास में ऐसी दूसरी घटना नहीं है। मुझे स्पष्ट तौर पर लगता है कि, राहुल…'}\n",
            "sentiment: Neutral\n",
            "{'edit_history_tweet_ids': ['1624035661237080064'], 'id': '1624035661237080064', 'text': \"RT @Pun_Starr: People are expecting Modi to admit he has a relationship with Adani.\\n\\nLol. He hasn't even accepted his relationship with Jas…\"}\n",
            "sentiment: Positive\n",
            "{'edit_history_tweet_ids': ['1624035661744316423'], 'id': '1624035661744316423', 'text': \"About Wachtell: Adani's law firm that represented Twitter in Elon's ... - Mint: https://t.co/hbjXEkk0sx #CorpGov #ESG\"}\n",
            "sentiment: Negative\n",
            "{'edit_history_tweet_ids': ['1624035669084610561'], 'id': '1624035669084610561', 'text': 'RT @PRATHAM_D_P: Mr Modi,\\nNehru is BIG,deal with it\\n\\nStop your diversion tactics!\\nNation wants to know about Modi Adani Nexus!! https://t.c…'}\n",
            "sentiment: Positive\n",
            "{'edit_history_tweet_ids': ['1624035676349153280'], 'id': '1624035676349153280', 'text': \"RT @dnetta: मोदी - “जीवन खपा दिया है, पल पल खपा दिया है”।\\n\\nबस ये कहना भूल गये 'अडानी को 609 वें स्थान से दूसरे नंबर पर लाने के लिए'।\\n\\n#Modi…\"}\n",
            "sentiment: Neutral\n",
            "{'edit_history_tweet_ids': ['1624035674826637314'], 'id': '1624035674826637314', 'text': '@ThinkX9 @AbhishBanerj Kiski fraud aur Kaha ki fraud be. \\nAllegations ke upar allegations, beena koi pokta saboot ke?'}\n",
            "sentiment: Neutral\n",
            "{'edit_history_tweet_ids': ['1624035675275423746'], 'id': '1624035675275423746', 'text': 'RT @Tiranga_dhaari5: @balaji98798 @GlobalBaba17 @RajeshBiharwala @AAP_F0R2024 @VinodKu51806624 @SinghDe41846382 @ZulekhaJehan @MuzaffarIsla…'}\n",
            "sentiment: Neutral\n",
            "{'edit_history_tweet_ids': ['1624035676579848193'], 'id': '1624035676579848193', 'text': 'Justice Arun Mishra has entered the chat. https://t.co/fC9XC3tZfR'}\n",
            "sentiment: Neutral\n",
            "{'edit_history_tweet_ids': ['1624035678056218625'], 'id': '1624035678056218625', 'text': \"RT @SpeakingTigers: It's going to open a Pandora's Box. Will backfire on Adani. This is not Modi's Indian courts. https://t.co/oB5IXgWklO\"}\n",
            "sentiment: Neutral\n",
            "{'edit_history_tweet_ids': ['1624035684515475458'], 'id': '1624035684515475458', 'text': \"And some super intelligent people were going extreme hyper ans calling out adani asking why isn't he filing Lawsuit..\\nAa if filing lawsuit is like walking to Cigarette shop and buying a cigarette.\\n\\nIt has its own steps and Adani group has worked on it and moved ahead with lawsuit https://t.co/IYzxjY1Yy1\"}\n",
            "sentiment: Positive\n",
            "{'edit_history_tweet_ids': ['1624035683219435520'], 'id': '1624035683219435520', 'text': 'RT @Jairam_Ramesh: Here is HAHK (Hum Adanike Hain Kaun)-6, the sixth in the series of questions to the PM on the PM-linked Adani MahaMegaSc…'}\n",
            "sentiment: Neutral\n",
            "{'edit_history_tweet_ids': ['1624035692002316289'], 'id': '1624035692002316289', 'text': 'RT @ShyamMeeraSingh: ख़ुद भाजपा के रेवन्यू मिनिस्टर ने विधानसभा में स्वीकार किया कि हाँ #Adani को 2-2₹ में बेची गई थी ज़मीन.. https://t.co/…'}\n",
            "sentiment: Neutral\n",
            "{'edit_history_tweet_ids': ['1624035671416664065'], 'id': '1624035671416664065', 'text': '@PreityUpala Wachtell , bad ass law firm , they represented Elon musk against tweeter 👍👍👍'}\n",
            "sentiment: Negative\n",
            "{'edit_history_tweet_ids': ['1624035694720208897'], 'id': '1624035694720208897', 'text': 'RT @MumbaichaDon: #AdaniWilmar raided by HIMACHAL TAX DEPT over ALLEGED GST Violation.\\n\\nWhy?\\n\\nCONgress was inciting Transporters to⬆️charge…'}\n",
            "sentiment: Negative\n",
            "{'edit_history_tweet_ids': ['1624035700373946368'], 'id': '1624035700373946368', 'text': \"@MahuaMoitra @andymukherjee70 @opinion @SEBI_India Only thing she couldn't get it right is the ramapant corruption in every sector of WB.\"}\n",
            "sentiment: Positive\n",
            "{'edit_history_tweet_ids': ['1624035700520910848'], 'id': '1624035700520910848', 'text': \"India's Life Insurance Corporation (LIC) is not planning to invest more in Adani Group companies despite their stocks being available at much lower prices now.\\n\\nHere's more🔻\\nhttps://t.co/6FzUDWBRNo\\n\\n#LIC #Adani #AdaniGroup @LICIndiaForever\"}\n",
            "sentiment: Positive\n",
            "{'edit_history_tweet_ids': ['1624035701095542784'], 'id': '1624035701095542784', 'text': 'RT @IYC: Govt has no funds for people but is pouring crores into the Adani group, and despite being exposed is continuously hindering a JPC…'}\n",
            "sentiment: Neutral\n",
            "{'edit_history_tweet_ids': ['1624035700848070657'], 'id': '1624035700848070657', 'text': 'RT @ChillamChilli_: Mudi Ji Sitting with so many ADANI in UP summit. He must rejine. \\nhttps://t.co/vHzAzd30fn'}\n",
            "sentiment: Positive\n",
            "{'edit_history_tweet_ids': ['1624035704987877376'], 'id': '1624035704987877376', 'text': 'RT @UrbanShrink: Curious case of missing Adani! \\n\\n https://t.co/9y5IpfG05V'}\n",
            "sentiment: Negative\n",
            "{'edit_history_tweet_ids': ['1624035709152817152'], 'id': '1624035709152817152', 'text': \"RT @NarundarM: Modi Ji can't about China.\\nModi Ji can't talk about Adani.\\n\\nModi Ji can only attack Nehru, because a dead man can't reply.\"}\n",
            "sentiment: Negative\n",
            "{'edit_history_tweet_ids': ['1624035716098555905'], 'id': '1624035716098555905', 'text': 'RT @Jairam_Ramesh: Here is HAHK (Hum Adanike Hain Kaun)-6, the sixth in the series of questions to the PM on the PM-linked Adani MahaMegaSc…'}\n",
            "sentiment: Neutral\n",
            "{'edit_history_tweet_ids': ['1624035716991954945'], 'id': '1624035716991954945', 'text': 'RT @MJ_007Club: Left Liberals Logic: We should not boycott Bollywood because lakhs of people are involved and employed in making of a film,…'}\n",
            "sentiment: Neutral\n",
            "{'edit_history_tweet_ids': ['1624035720519098369'], 'id': '1624035720519098369', 'text': 'Adani Group News : अडानी ग्रुप के लिए बुरी खबर है। रेटिंग एजेंसी मूडीज ने अडानी ग्रुप की चार कंपनियों का आउटलुक... https://t.co/2iCq8j9Ve5'}\n",
            "sentiment: Neutral\n",
            "{'edit_history_tweet_ids': ['1624035720968146944'], 'id': '1624035720968146944', 'text': 'RT @PRATHAM_D_P: Mr Modi,\\nNehru is BIG,deal with it\\n\\nStop your diversion tactics!\\nNation wants to know about Modi Adani Nexus!! https://t.c…'}\n",
            "sentiment: Positive\n",
            "{'edit_history_tweet_ids': ['1624035720863309830'], 'id': '1624035720863309830', 'text': 'RT @Jairam_Ramesh: Here is HAHK (Hum Adanike Hain Kaun)-6, the sixth in the series of questions to the PM on the PM-linked Adani MahaMegaSc…'}\n",
            "sentiment: Neutral\n",
            "{'edit_history_tweet_ids': ['1624035733353930753'], 'id': '1624035733353930753', 'text': 'RT @angrybirdtweetz: Watch what common man is thinking about Adani. \\n\\nI hope bhakts open their eyes &amp; realize atleast now. https://t.co/zMG…'}\n",
            "sentiment: Negative\n",
            "{'edit_history_tweet_ids': ['1624035734192816128'], 'id': '1624035734192816128', 'text': 'Hindenburg Report is nothing just a propaganda against India.Based on false accusations Adani has lost hundreds of millions and pushed down to 9th Rank from 3rd.\\n@ianuragthakur @vivekagnihotri\\n@kapilmishra_ind @theskindoctor13\\n#NarendraModi #AdaniEnterprises #StockMarketindia https://t.co/ABcJS0H9y4'}\n",
            "sentiment: Negative\n",
            "{'edit_history_tweet_ids': ['1624035733794361344'], 'id': '1624035733794361344', 'text': 'RT @ShyamMeeraSingh: ख़ुद भाजपा के रेवन्यू मिनिस्टर ने विधानसभा में स्वीकार किया कि हाँ #Adani को 2-2₹ में बेची गई थी ज़मीन.. https://t.co/…'}\n",
            "sentiment: Neutral\n",
            "{'edit_history_tweet_ids': ['1624035730006867969'], 'id': '1624035730006867969', 'text': 'RT @Jairam_Ramesh: Here is HAHK (Hum Adanike Hain Kaun)-6, the sixth in the series of questions to the PM on the PM-linked Adani MahaMegaSc…'}\n",
            "sentiment: Neutral\n",
            "{'edit_history_tweet_ids': ['1624035738454208512'], 'id': '1624035738454208512', 'text': 'RT @AamAadmiParty: Adani का बढ़ाया व्यापार, देश का किया बंटाधार!\\nवाह रे Modi सरकार! https://t.co/TChe8HKegP'}\n",
            "sentiment: Neutral\n",
            "{'edit_history_tweet_ids': ['1624035738676502528'], 'id': '1624035738676502528', 'text': 'RT @Swamy39: Terrible ! https://t.co/zvm7WMJdiA'}\n",
            "sentiment: Negative\n",
            "{'edit_history_tweet_ids': ['1624035742166179842'], 'id': '1624035742166179842', 'text': '@sagarikaghose If Adani is not = India since India is a much broader market, why is this a terrible optics for India. May be you need to change your eye glasses.'}\n",
            "sentiment: Negative\n",
            "{'edit_history_tweet_ids': ['1624035753276878848'], 'id': '1624035753276878848', 'text': 'RT @ShyamMeeraSingh: #Uttarakhand में छात्रों को कीड़ों-मकोड़ों की तरह पीटा जा रहा है, ये किसी पार्टी से नहीं हैं, वामपंथी भी नहीं हैं,चीन…'}\n",
            "sentiment: Neutral\n",
            "{'edit_history_tweet_ids': ['1624035748398891008'], 'id': '1624035748398891008', 'text': '@MahuaMoitra @SEBI_India @nsitharaman @MahuaMoitra harami madam'}\n",
            "sentiment: Neutral\n",
            "{'edit_history_tweet_ids': ['1624035749829169154'], 'id': '1624035749829169154', 'text': 'RT @RadhikaBarman5: 18 remarks by @RahulGandhi in LS expunged:\\n1. Every question asked of PM- deleted!\\n2. All references to the relationshi…'}\n",
            "sentiment: Neutral\n",
            "{'edit_history_tweet_ids': ['1624035756036747265'], 'id': '1624035756036747265', 'text': 'RT @RRPillarisetti: 🙏 @DrTamilisaiGuv ‘People’s Governor’ for inviting me to present my thoughts relating to Healthcare in #UnionBudget.And…'}\n",
            "sentiment: Neutral\n",
            "{'edit_history_tweet_ids': ['1624035759497019392'], 'id': '1624035759497019392', 'text': 'RT @t_d_h_nair: BJP MPs were asking for proof of Modi, his government and various BJP state governments extending undue favours to the Adan…'}\n",
            "sentiment: Neutral\n",
            "{'edit_history_tweet_ids': ['1624035763653382149'], 'id': '1624035763653382149', 'text': '@APF_Ind Here is the info you are looking for\\n\\nYou can find out office addresses of legal businesses at the Secretary of the state website. Here is Hindenburg LLC registration with office location\\n\\nhttps://t.co/5OJZ09Jkg0. Search for Hindenburg Research LLC. https://t.co/Atef4cf6tF'}\n",
            "sentiment: Positive\n",
            "{'edit_history_tweet_ids': ['1624035765692018688'], 'id': '1624035765692018688', 'text': 'RT @business: Moody’s Investors Service cuts its outlook for Adani Green, citing its “significant refinancing needs\" https://t.co/dt5PeRFEnb'}\n",
            "sentiment: Positive\n",
            "{'edit_history_tweet_ids': ['1624035768535773184'], 'id': '1624035768535773184', 'text': 'RT @Akki_180683: @PiyushGoyal @narendramodi 😂😂😂😂 Adani ko desh samajhta hai 😂😂'}\n",
            "sentiment: Neutral\n",
            "{'edit_history_tweet_ids': ['1624035766933544961'], 'id': '1624035766933544961', 'text': '@BJP4India https://t.co/zKXUGx7rip'}\n",
            "sentiment: Neutral\n",
            "{'edit_history_tweet_ids': ['1624035768887812098'], 'id': '1624035768887812098', 'text': '@Arappor @mkstalin @KS_Alagiri @PeterAlphonse7 @KanimozhiDMK @jothims ஆதாரங்களுடன் Court Case போட என்ன தயக்கம்??\\n\\nஒரு வாரத்தில் நீ case போடலைன்னா அதானிகிட்ட, எடப்பாடி, ஸ்டாலின்கிட்ட காசு வாங்கிட்டேன்னு அர்த்தம். 😂\\n\\nசவாலுக்கு ரெடியா??\\n\\nவெட்டி சவடால விடுற, ராஸ்கல்'}\n",
            "sentiment: Neutral\n",
            "{'edit_history_tweet_ids': ['1624035771547271172'], 'id': '1624035771547271172', 'text': '@ahmedalifayyaz Adani lithium coming soon'}\n",
            "sentiment: Neutral\n",
            "{'edit_history_tweet_ids': ['1624035776873783297'], 'id': '1624035776873783297', 'text': \"@khaleejtimes This is what India's reality is.. \\nAn imaginary economy that that collapsed by more then half just with a news.. \\nThe of becoming so-called beconomic power is nothing more then a bubble..\"}\n",
            "sentiment: Positive\n",
            "{'edit_history_tweet_ids': ['1624035775095635970'], 'id': '1624035775095635970', 'text': 'RT @Sweet_HoneygaI: Gautam Adani is all set to go to sue the short selling agency Hindenburg in their den with their prosecutor for the mal…'}\n",
            "sentiment: Neutral\n",
            "{'edit_history_tweet_ids': ['1624035780497907714'], 'id': '1624035780497907714', 'text': 'RT @HateDetectors: Congress leader #RahulGandhi and team shouting \"Adani ! Adani ! Adani !\" infront of #NarendraModi...😂🔥\\n#AdaniEnterprises…'}\n",
            "sentiment: Neutral\n",
            "{'edit_history_tweet_ids': ['1624035780644732928'], 'id': '1624035780644732928', 'text': 'RT @t_d_h_nair: BJP MPs were asking for proof of Modi, his government and various BJP state governments extending undue favours to the Adan…'}\n",
            "sentiment: Neutral\n",
            "{'edit_history_tweet_ids': ['1624035784222298112'], 'id': '1624035784222298112', 'text': '@thejendra @t_d_h_nair \"let them employee lakhs\" ??? Check how little ppl Adani employs in India!'}\n",
            "sentiment: Negative\n",
            "{'edit_history_tweet_ids': ['1624035792082575360'], 'id': '1624035792082575360', 'text': \"RT @nareshbareth: After the Adani fiasco, Modi Ji's image has become of a PM who is openly supporting fraud businessmen.\\n\\nWho all agree?\"}\n",
            "sentiment: Positive\n",
            "{'edit_history_tweet_ids': ['1624035793151963141'], 'id': '1624035793151963141', 'text': 'RT @PasaPrabhu: The history of Adani Brothers! https://t.co/eTwCO0HIoj'}\n",
            "sentiment: Neutral\n",
            "{'edit_history_tweet_ids': ['1624035799292612608'], 'id': '1624035799292612608', 'text': 'RT @rohanduaT02: Embattled-business tycoon Gautam Adani hires world’s most expensive law firm to fight his case against Hindenburg allegati…'}\n",
            "sentiment: Negative\n",
            "{'edit_history_tweet_ids': ['1624035798432755712'], 'id': '1624035798432755712', 'text': 'RT @t_d_h_nair: BJP MPs were asking for proof of Modi, his government and various BJP state governments extending undue favours to the Adan…'}\n",
            "sentiment: Neutral\n",
            "{'edit_history_tweet_ids': ['1624035803910504448'], 'id': '1624035803910504448', 'text': 'RT @ChillamChilli_: Mudi Ji Sitting with so many ADANI in UP summit. He must rejine. \\nhttps://t.co/vHzAzd30fn'}\n",
            "sentiment: Positive\n",
            "{'edit_history_tweet_ids': ['1624035805848281088'], 'id': '1624035805848281088', 'text': 'RT @KumudShankar: Is he a lawyer? Has there been an enquiry into the matter or simply some news wallah doing the interview like Mr. Adani w…'}\n",
            "sentiment: Neutral\n",
            "{'edit_history_tweet_ids': ['1624035807265955843'], 'id': '1624035807265955843', 'text': \"RT @ttindia: Good Morning. Here's a glimpse of today's front page for you. \\n\\nGet full paper here- https://t.co/AVxs4LSs5x \\n\\n#Adani #AdaniEn…\"}\n",
            "sentiment: Positive\n",
            "{'edit_history_tweet_ids': ['1624035807614107648'], 'id': '1624035807614107648', 'text': 'RT @NewsArenaIndia: Big News - Gautam Adani hires American legal powerhouse Wachtell to battle Hindenburg.'}\n",
            "sentiment: Positive\n",
            "{'edit_history_tweet_ids': ['1624035814194962432'], 'id': '1624035814194962432', 'text': \"RT @moneycontrolcom: India's Life Insurance Corporation (LIC) is not planning to invest more in Adani Group companies despite their stocks…\"}\n",
            "sentiment: Positive\n",
            "{'edit_history_tweet_ids': ['1624035810906628096'], 'id': '1624035810906628096', 'text': \"I know I've used less with safer which is grammatically redundant but it's only for effect.\"}\n",
            "sentiment: Negative\n",
            "{'edit_history_tweet_ids': ['1624035818200522752'], 'id': '1624035818200522752', 'text': 'RT @satishacharya: \"I gave them food, water, shelter, gas, cash...\"! #Adani #hindenburg https://t.co/w0xZbJeWfE'}\n",
            "sentiment: Neutral\n",
            "{'edit_history_tweet_ids': ['1624035819265863680'], 'id': '1624035819265863680', 'text': 'RT @AamAadmiParty: Adani का बढ़ाया व्यापार, देश का किया बंटाधार!\\nवाह रे Modi सरकार! https://t.co/TChe8HKegP'}\n",
            "sentiment: Neutral\n",
            "{'edit_history_tweet_ids': ['1624035820322582536'], 'id': '1624035820322582536', 'text': 'RT @TVMohandasPai: Stuck in a time warp: Why Rahul Gandhi’s Adani gambit may go the Rafale way. Pl read \\u2066@Utpal_Kumar1\\u2069  https://t.co/1MfXB…'}\n",
            "sentiment: Neutral\n",
            "{'edit_history_tweet_ids': ['1624035828069720066'], 'id': '1624035828069720066', 'text': 'RT @HarisButt_says: Adani has hired Wachtell,one of the most expensive law firms in the US to fight against allegations made by short selle…'}\n",
            "sentiment: Neutral\n",
            "{'edit_history_tweet_ids': ['1624035825490223105'], 'id': '1624035825490223105', 'text': 'RT @FltLtAnoopVerma: Adani’s are suing Hindenburg in their own den\\n\\nSuper News\\n\\nThey should add Mahua Moitra in India'}\n",
            "sentiment: Positive\n",
            "{'edit_history_tweet_ids': ['1624035826937262080'], 'id': '1624035826937262080', 'text': 'RT @TEAMYPSS: Now Hindenburg Exposed.\\nWho is Behind Nathan Anderson?\\n#AdaniEnterprise #Adani https://t.co/Gmm1lo9iTR'}\n",
            "sentiment: Negative\n",
            "{'edit_history_tweet_ids': ['1624035834046586885'], 'id': '1624035834046586885', 'text': 'RT @NewsArenaIndia: Big News - Gautam Adani hires American legal powerhouse Wachtell to battle Hindenburg.'}\n",
            "sentiment: Positive\n",
            "{'edit_history_tweet_ids': ['1624035830020050945'], 'id': '1624035830020050945', 'text': 'अडानी ग्रुप को लगा एक और झटका, मूडीज ने उसकी चार कंपनियों का आउटलुक किया निगेटिव  news in hindi https://t.co/8eUVBO7aTm'}\n",
            "sentiment: Neutral\n",
            "{'edit_history_tweet_ids': ['1624035832964452353'], 'id': '1624035832964452353', 'text': 'RT @AamAadmiParty: Adani का बढ़ाया व्यापार, देश का किया बंटाधार!\\nवाह रे Modi सरकार! https://t.co/TChe8HKegP'}\n",
            "sentiment: Neutral\n",
            "{'edit_history_tweet_ids': ['1624035832314347520'], 'id': '1624035832314347520', 'text': 'RT @MahuaMoitra: I pointed out in June 2021 how funky fund FPI directors fronting for Adani. \\nToday @andymukherjee70  at @opinion says same…'}\n",
            "sentiment: Neutral\n",
            "{'edit_history_tweet_ids': ['1624035836240211968'], 'id': '1624035836240211968', 'text': \"@ani_digital @ANI will go to adani's pocket directly ...\"}\n",
            "sentiment: Positive\n",
            "{'edit_history_tweet_ids': ['1624035840191238144'], 'id': '1624035840191238144', 'text': 'RT @t_d_h_nair: BJP MPs were asking for proof of Modi, his government and various BJP state governments extending undue favours to the Adan…'}\n",
            "sentiment: Neutral\n",
            "{'edit_history_tweet_ids': ['1624035844230361089'], 'id': '1624035844230361089', 'text': '@AamAadmiParty @SanjayAzadSln तूने टिकट ब्लैक करनी है 😜😜😜'}\n",
            "sentiment: Neutral\n",
            "{'edit_history_tweet_ids': ['1624035845497065475'], 'id': '1624035845497065475', 'text': 'RT @Jairam_Ramesh: Here is HAHK (Hum Adanike Hain Kaun)-6, the sixth in the series of questions to the PM on the PM-linked Adani MahaMegaSc…'}\n",
            "sentiment: Neutral\n",
            "{'edit_history_tweet_ids': ['1624035852631539713'], 'id': '1624035852631539713', 'text': 'RT @cdesaai: @smritiirani @narendramodi @RahulGandhi poori dal kali hai adani aur modiji ki… @ArvindKejriwal @SupriyaShrinate https://t.co/…'}\n",
            "sentiment: Neutral\n",
            "{'edit_history_tweet_ids': ['1624035849049636865'], 'id': '1624035849049636865', 'text': 'RT @MediaHarshVT: #Budget पिछले साल का कैसे कोई पढ़ सकता है ? ज्ञात इतिहास में ऐसी दूसरी घटना नहीं है। मुझे स्पष्ट तौर पर लगता है कि, राहुल…'}\n",
            "sentiment: Neutral\n",
            "{'edit_history_tweet_ids': ['1624035853621411841'], 'id': '1624035853621411841', 'text': '@ChowkidarChokra To save Self from getting Bashes trying to put Fingures on others for a Grand Cover up of Failures \\n\\nक्या CS डुबकी मारेगा?😀😀'}\n",
            "sentiment: Positive\n",
            "{'edit_history_tweet_ids': ['1624035858478403586'], 'id': '1624035858478403586', 'text': 'RT @PRATHAM_D_P: Mr Modi,\\nNehru is BIG,deal with it\\n\\nStop your diversion tactics!\\nNation wants to know about Modi Adani Nexus!! https://t.c…'}\n",
            "sentiment: Positive\n",
            "{'edit_history_tweet_ids': ['1624035859535171586'], 'id': '1624035859535171586', 'text': 'Pls wtch https://t.co/NT7kSTUsxs'}\n",
            "sentiment: Neutral\n",
            "{'edit_history_tweet_ids': ['1624035858365169664'], 'id': '1624035858365169664', 'text': 'RT @mukeshmarda: SEBI probes Adani\\'s links to FPO investors as Modi\\'s office is briefed\\n\"Ohh saheb does not know anything it seems!\"\\n\\n http…'}\n",
            "sentiment: Neutral\n",
            "{'edit_history_tweet_ids': ['1624035863989714945'], 'id': '1624035863989714945', 'text': 'RT @PreityUpala: Adani goes full throttle!\\nHires Top US law firm to take on Hindenburg'}\n",
            "sentiment: Positive\n",
            "{'edit_history_tweet_ids': ['1624035864350441472'], 'id': '1624035864350441472', 'text': 'RT @sakshijoshii: What has happened to that investigation that SEBI did start against Adani in 2021? \\nWhat was the outcome of it? https://t…'}\n",
            "sentiment: Neutral\n",
            "{'edit_history_tweet_ids': ['1624035866787352576'], 'id': '1624035866787352576', 'text': 'RT @rssurjewala: The Rating Agency, Moody’s changes the outlook of four #Adani companies to “negative”.\\n\\nNSCI,\\nDow Jones,\\nNorway’s Sovereig…'}\n",
            "sentiment: Negative\n",
            "{'edit_history_tweet_ids': ['1624035868250865666'], 'id': '1624035868250865666', 'text': \"Moody's adjustments outlook on 4 Adani Group corporations to 'unfavourable' - https://t.co/Qs9ZUh90Ii\"}\n",
            "sentiment: Neutral\n",
            "{'edit_history_tweet_ids': ['1624035869131935745'], 'id': '1624035869131935745', 'text': 'RT @Mohan08417213: #Adani ko @RSSorg co bhi jatka.'}\n",
            "sentiment: Neutral\n",
            "{'edit_history_tweet_ids': ['1624035874194468864'], 'id': '1624035874194468864', 'text': 'RT @KetanJ0: Norway wealth fund has sold its stakes in Adani companies\\n\\nNot great that it took a scandal and stock price plummet to make th…'}\n",
            "sentiment: Negative\n",
            "{'edit_history_tweet_ids': ['1624035881391894530'], 'id': '1624035881391894530', 'text': \"RT @Magamiilyas: Shouldn't the Adani scam be investigated? Shouldn't we question the LIC money invested in Adani's company? Why did the sha…\"}\n",
            "sentiment: Neutral\n",
            "{'edit_history_tweet_ids': ['1624035881098317826'], 'id': '1624035881098317826', 'text': \"Moody's adjustments outlook on 4 Adani Group corporations to 'unfavourable' - https://t.co/PLAoe41XOd\"}\n",
            "sentiment: Neutral\n",
            "{'edit_history_tweet_ids': ['1624035883761508352'], 'id': '1624035883761508352', 'text': 'RT @VarunKrRana: Adani is getting rich because of Modi ji, Robert Vadra was getting rich because of his hardwork, talent &amp; commitment 😹'}\n",
            "sentiment: Positive\n",
            "{'edit_history_tweet_ids': ['1624035884919296000'], 'id': '1624035884919296000', 'text': 'RT @AamAadmiParty: प्रधानमंत्री मोदी के भाषण के दौरान “Modi-Adani भाई-भाई” के नारों से गूंज उठी संसद 🔥\\n\\nAAP MP @SanjayAzadSln जी के नेतृत्व…'}\n",
            "sentiment: Neutral\n",
            "{'edit_history_tweet_ids': ['1624035885401640960'], 'id': '1624035885401640960', 'text': 'RT @t_d_h_nair: BJP MPs were asking for proof of Modi, his government and various BJP state governments extending undue favours to the Adan…'}\n",
            "sentiment: Neutral\n",
            "{'edit_history_tweet_ids': ['1624035888652230656'], 'id': '1624035888652230656', 'text': 'RT @AamAadmiParty: प्रधानमंत्री मोदी के भाषण के दौरान “Modi-Adani भाई-भाई” के नारों से गूंज उठी संसद 🔥\\n\\nAAP MP @SanjayAzadSln जी के नेतृत्व…'}\n",
            "sentiment: Neutral\n",
            "{'edit_history_tweet_ids': ['1624035892095754240'], 'id': '1624035892095754240', 'text': \"RT @Magamiilyas: Shouldn't the Adani scam be investigated? Shouldn't we question the LIC money invested in Adani's company? Why did the sha…\"}\n",
            "sentiment: Neutral\n",
            "{'edit_history_tweet_ids': ['1624035897292500992'], 'id': '1624035897292500992', 'text': 'RT @NewsArenaIndia: Big News - Gautam Adani hires American legal powerhouse Wachtell to battle Hindenburg.'}\n",
            "sentiment: Positive\n",
            "{'edit_history_tweet_ids': ['1624035899779739649'], 'id': '1624035899779739649', 'text': '@neerajdubey @ravishndtv सरकार 5kg चावल दे रही है। अपने बाबू जी से पूछो योजना का लाभ ले रहे हैं कि नही। आपके बाबू जी लाभार्थी होंगे तो हम सब भी आगे बढ़कर लाभ लेंगे'}\n",
            "sentiment: Neutral\n",
            "{'edit_history_tweet_ids': ['1624035905098100737'], 'id': '1624035905098100737', 'text': 'RT @MahuaMoitra: Oh &amp; btw Mr. Adani, Sir - don’t waste time sending all your Delhi stooges behind me . \\nI am NOT being funded by Reliance.…'}\n",
            "sentiment: Negative\n",
            "{'edit_history_tweet_ids': ['1624035902120140800'], 'id': '1624035902120140800', 'text': '@zoo_bear Your Corrupt masters with global TE₹₹o₹ist$ https://t.co/7Z25dk485t'}\n",
            "sentiment: Negative\n",
            "{'edit_history_tweet_ids': ['1624035901583261696'], 'id': '1624035901583261696', 'text': '@timesofindia https://t.co/CtYyWXB9gg'}\n",
            "sentiment: Neutral\n",
            "{'edit_history_tweet_ids': ['1624035906561900546'], 'id': '1624035906561900546', 'text': 'RT @BhavikaKapoor5: Chor machay shor 📢\\n\\n#AdaniScam2023 #AdaniScam\\n\\nAdani hires US legal powerhouse Wachtell in short-seller battle\\nIndian c…'}\n",
            "sentiment: Positive\n",
            "{'edit_history_tweet_ids': ['1624035910219333632'], 'id': '1624035910219333632', 'text': 'RT @AamAadmiParty: Adani का बढ़ाया व्यापार, देश का किया बंटाधार!\\nवाह रे Modi सरकार! https://t.co/TChe8HKegP'}\n",
            "sentiment: Neutral\n",
            "{'edit_history_tweet_ids': ['1624035907807641602'], 'id': '1624035907807641602', 'text': '@BDUTT @MahuaMoitra @themojostory Same thing like haram is not gali Rand is not gali.. https://t.co/TH45WHUf65'}\n",
            "sentiment: Neutral\n",
            "{'edit_history_tweet_ids': ['1624035914241675266'], 'id': '1624035914241675266', 'text': \"RT @bspassanha: Moody's changes Adani Green outlook to negative from stable @moneycontrolcom https://t.co/TEZT3g0VTb\"}\n",
            "sentiment: Negative\n",
            "{'edit_history_tweet_ids': ['1624035913914540032'], 'id': '1624035913914540032', 'text': \"RT @Sanju_Verma_: I expose Pappu's new durbari Yogendra Yadav,who is like a rolling stone that gathers no moss&amp;has zero crediility;yes,i sa…\"}\n",
            "sentiment: Positive\n",
            "{'edit_history_tweet_ids': ['1624035917873963010'], 'id': '1624035917873963010', 'text': 'RT @ChillamChilli_: Mudi Ji Sitting with so many ADANI in UP summit. He must rejine. \\nhttps://t.co/vHzAzd30fn'}\n",
            "sentiment: Positive\n",
            "{'edit_history_tweet_ids': ['1624035914388496384'], 'id': '1624035914388496384', 'text': 'RT @srinivasiyc: Adani has destroyed the ecosystems &amp; livelihoods of many. \\nAdani itself is an attack on India! https://t.co/CVkiU8nKDL'}\n",
            "sentiment: Positive\n",
            "{'edit_history_tweet_ids': ['1624035919199375365'], 'id': '1624035919199375365', 'text': '@INCIndia Adani'}\n",
            "sentiment: Neutral\n",
            "{'edit_history_tweet_ids': ['1624035943052382208'], 'id': '1624035943052382208', 'text': 'RT @NewsArenaIndia: Big News - Gautam Adani hires American legal powerhouse Wachtell to battle Hindenburg.'}\n",
            "sentiment: Positive\n",
            "{'edit_history_tweet_ids': ['1624035943920578561'], 'id': '1624035943920578561', 'text': 'RT @pbhushan1: A brief history of Adani till Modi era! https://t.co/lvdAgNzlx7'}\n",
            "sentiment: Neutral\n",
            "{'edit_history_tweet_ids': ['1624035944411299840'], 'id': '1624035944411299840', 'text': 'RT @paranjoygt: Total of France puts $4bn hydrogen investment in Adani on hold  https://t.co/XjWiA8SJTt'}\n",
            "sentiment: Neutral\n",
            "{'edit_history_tweet_ids': ['1624035939071959041'], 'id': '1624035939071959041', 'text': '@BhanuKumarM1 @MinistryofMines @narendramodi Don’t forget that it was the current government that started to give importance to rare earth elements,or else raul vinci went and made a deal to stall India’s growth story,other wise you go and take the contract for minimum,the thing is Adani delivers finished infra on time'}\n",
            "sentiment: Positive\n",
            "{'edit_history_tweet_ids': ['1624035947276013569'], 'id': '1624035947276013569', 'text': 'RT @Reasonyourself: And they say that Modi did not help Adani... https://t.co/21mOHzCQsz'}\n",
            "sentiment: Neutral\n",
            "{'edit_history_tweet_ids': ['1624035948614017026'], 'id': '1624035948614017026', 'text': 'RT @AbhishBanerj: Have you noticed?\\n\\nEntire opposition and its ecosystem has gone silent on SBI and LIC\\n\\nWhat happened?\\n\\nLiberals said SBI…'}\n",
            "sentiment: Neutral\n",
            "{'edit_history_tweet_ids': ['1624035950178471936'], 'id': '1624035950178471936', 'text': 'RT @ShatruganSinha: as it\\'s being said that it\\'s one of his best &amp; one of \\'the best\" in Parliament. Watch it for your understanding &amp; enlig…'}\n",
            "sentiment: Positive\n",
            "{'edit_history_tweet_ids': ['1624035954527809537'], 'id': '1624035954527809537', 'text': 'RT @vaibhav__iyc: Modi-Adani Friendship Goals 😂🔥😂\\n\\nhttps://t.co/kxDOeieEwD https://t.co/dR2pYh6Z89'}\n",
            "sentiment: Neutral\n",
            "{'edit_history_tweet_ids': ['1624035955442356224'], 'id': '1624035955442356224', 'text': 'RT @Praneshvjcbe: Adani hires US legal powerhouse Wachtell in short-seller battle\\n\\nIndian conglomerate taps lawyers known for fierce activi…'}\n",
            "sentiment: Positive\n",
            "{'edit_history_tweet_ids': ['1624035968436277248'], 'id': '1624035968436277248', 'text': 'RT @IYCOdisha: Adani को फ्रांस की Total Energies ने दिया बड़ा झटका! कंपनी ने कहा आरोप पर पहले दें स्पष्टीकरण फिर करेंगे निवेश पर विचार! htt…'}\n",
            "sentiment: Neutral\n",
            "{'edit_history_tweet_ids': ['1624035966607564800'], 'id': '1624035966607564800', 'text': \"RT @nareshbareth: After the Adani fiasco, Modi Ji's image has become of a PM who is openly supporting fraud businessmen.\\n\\nWho all agree?\"}\n",
            "sentiment: Positive\n",
            "{'edit_history_tweet_ids': ['1624035967324811265'], 'id': '1624035967324811265', 'text': 'RT @ShyamMeeraSingh: ख़ुद भाजपा के रेवन्यू मिनिस्टर ने विधानसभा में स्वीकार किया कि हाँ #Adani को 2-2₹ में बेची गई थी ज़मीन.. https://t.co/…'}\n",
            "sentiment: Neutral\n",
            "{'edit_history_tweet_ids': ['1624035972211183616'], 'id': '1624035972211183616', 'text': 'RT @IYC: Govt has no funds for people but is pouring crores into the Adani group, and despite being exposed is continuously hindering a JPC…'}\n",
            "sentiment: Neutral\n",
            "{'edit_history_tweet_ids': ['1624035971431014400'], 'id': '1624035971431014400', 'text': 'RT @t_d_h_nair: BJP MPs were asking for proof of Modi, his government and various BJP state governments extending undue favours to the Adan…'}\n",
            "sentiment: Neutral\n",
            "{'edit_history_tweet_ids': ['1624035976250269697'], 'id': '1624035976250269697', 'text': 'RT @ArunSFan: Modiji was asked about Adani, Shell companies, stock manipulation, corruption, Chinese intrusion, unemployment, protection of…'}\n",
            "sentiment: Neutral\n",
            "{'edit_history_tweet_ids': ['1624035975340126208'], 'id': '1624035975340126208', 'text': '@narne_kumar06 @dhume Then it is clear it is tool kit agenda..'}\n",
            "sentiment: Positive\n",
            "{'edit_history_tweet_ids': ['1624035980389883905'], 'id': '1624035980389883905', 'text': 'RT @Adil_INC_: @idsuban7 @ndtv He Never Had..... \\n\\nTopic Is On Adani \\n\\nAnd He Is Talking About His Favourite Pt. Nehru \\n\\nHe Is OBSESSED WIT…'}\n",
            "sentiment: Negative\n",
            "{'edit_history_tweet_ids': ['1624035969807826944'], 'id': '1624035969807826944', 'text': 'RT @MediaHarshVT: #Budget पिछले साल का कैसे कोई पढ़ सकता है ? ज्ञात इतिहास में ऐसी दूसरी घटना नहीं है। मुझे स्पष्ट तौर पर लगता है कि, राहुल…'}\n",
            "sentiment: Neutral\n",
            "{'edit_history_tweet_ids': ['1624035985024765953'], 'id': '1624035985024765953', 'text': 'RT @HarisButt_says: Adani has hired Wachtell,one of the most expensive law firms in the US to fight against allegations made by short selle…'}\n",
            "sentiment: Neutral\n",
            "{'edit_history_tweet_ids': ['1624035982193598464'], 'id': '1624035982193598464', 'text': 'RT @rohanduaT02: Embattled-business tycoon Gautam Adani hires world’s most expensive law firm to fight his case against Hindenburg allegati…'}\n",
            "sentiment: Negative\n",
            "{'edit_history_tweet_ids': ['1624035991710470146'], 'id': '1624035991710470146', 'text': 'RT @zoo_bear: Most Indian News Channels and News Anchor were interested in the expletive at a BJP MP in Lok Sabha by Mahua Moitra during a…'}\n",
            "sentiment: Positive\n",
            "{'edit_history_tweet_ids': ['1624035991735640066'], 'id': '1624035991735640066', 'text': 'RT @REDBOXINDIA: ADANI HIRES US LEGAL POWERHOUSE WACHTELL IN SHORT-SELLER BATTLE AGAINST HINDENBURG: FT\\n\\n#BIGBREAKING'}\n",
            "sentiment: Positive\n",
            "{'edit_history_tweet_ids': ['1624035994973638659'], 'id': '1624035994973638659', 'text': 'https://t.co/xQ3SRpxm3S'}\n",
            "sentiment: Neutral\n",
            "{'edit_history_tweet_ids': ['1624035995724427265'], 'id': '1624035995724427265', 'text': 'RT @Jairam_Ramesh: Here is HAHK (Hum Adanike Hain Kaun)-6, the sixth in the series of questions to the PM on the PM-linked Adani MahaMegaSc…'}\n",
            "sentiment: Neutral\n",
            "{'edit_history_tweet_ids': ['1624036000275234816'], 'id': '1624036000275234816', 'text': '@rahulroushan @swati_gs\\n@prachyam7 @unsubtledesi\\n#HindenburgExposed\\nThe Hidenburg Report is a conspiracy to Weaken the Indian Economy and We definitely recover from this as soon as possible 💯 https://t.co/oTNTzFxqey'}\n",
            "sentiment: Neutral\n",
            "{'edit_history_tweet_ids': ['1624036002426937344'], 'id': '1624036002426937344', 'text': '🔥🔥🔥 Adani = SCAM https://t.co/BsTJg70NNI'}\n",
            "sentiment: Neutral\n",
            "{'edit_history_tweet_ids': ['1624036001818763264'], 'id': '1624036001818763264', 'text': 'RT @aka911_: I voted for Modi and will most likely vote for him again. \\n\\nBut I am utterly flabbergasted by his speech in Lok Sabha yesterda…'}\n",
            "sentiment: Positive\n",
            "{'edit_history_tweet_ids': ['1624036008919715840'], 'id': '1624036008919715840', 'text': '@barandbench if some report by a short seller can create such a havoc then regulator should seriously consider the stock exchange working... every one knows the vulnerability of stock exchanges... you cannot save a person hell bent on entering burning house and expecting someone to save him..'}\n",
            "sentiment: Negative\n",
            "{'edit_history_tweet_ids': ['1624036010018623488'], 'id': '1624036010018623488', 'text': 'When Joe Rogan is talking about it , then there is  something fishy going on and govt is a privy to it . @MahuaMoitra https://t.co/4ppoKgKv3s'}\n",
            "sentiment: Neutral\n",
            "{'edit_history_tweet_ids': ['1624036018222694401'], 'id': '1624036018222694401', 'text': 'RT @mvmeet: The battle has begun\\n\\n* Adani group has hired US legal firm Wachtell to fight against Hindenburg\\n\\n* It is one of the most expen…'}\n",
            "sentiment: Positive\n",
            "{'edit_history_tweet_ids': ['1624036020441460738'], 'id': '1624036020441460738', 'text': \"RT @datta_arvind: LIC chairman says they will call Adani to understand the issue.\\nDidn't they say the exposure is sub 1% of their AUM.\\n\\nNow…\"}\n",
            "sentiment: Neutral\n",
            "{'edit_history_tweet_ids': ['1624036020378562572'], 'id': '1624036020378562572', 'text': '@GurudathShettyK @aroonpurie @rajchengappa @RajatSharmaLive @navinjournalist @gautam_adani @HansrajMeena @KirtiAzaad @nitin_gadkari @ravishndtv @BeechBazar @AbhinandanSekhr @ppbajpai @abhisar_sharma @ajitanjum @vinodkapri @dmuthuk @gypsy_nilima @TanushreePande @sakshijoshii @rohini_sgh @SEBI_India @DasShaktikanta @nsitharaman @narendramodi @DeepakSEditor @suchetadalal @Swamy39 😂\\n\\n@1ALOKJOSHI https://t.co/XIri85MOuU'}\n",
            "sentiment: Neutral\n",
            "{'edit_history_tweet_ids': ['1624036023004176384'], 'id': '1624036023004176384', 'text': '@TVMohandasPai @Utpal_Kumar1 🙏🙏'}\n",
            "sentiment: Neutral\n",
            "{'edit_history_tweet_ids': ['1624036027534024705'], 'id': '1624036027534024705', 'text': 'RT @satishacharya: \"I gave them food, water, shelter, gas, cash...\"! #Adani #hindenburg https://t.co/w0xZbJeWfE'}\n",
            "sentiment: Neutral\n",
            "{'edit_history_tweet_ids': ['1624036023289401348'], 'id': '1624036023289401348', 'text': 'RT @t_d_h_nair: Online link:\\nhttps://t.co/Tt6od3AOim'}\n",
            "sentiment: Neutral\n",
            "{'edit_history_tweet_ids': ['1624036021099966464'], 'id': '1624036021099966464', 'text': 'RT @news24tvchannel: \"सरकार के पास राहुल गांधी के सवालों का जबाव नहीं है\"\\n\\nकांग्रेस सांसद अमी याज्ञनिक ने साधा सरकार पर निशाना\\n#Congress #A…'}\n",
            "sentiment: Neutral\n",
            "{'edit_history_tweet_ids': ['1624036031510220802'], 'id': '1624036031510220802', 'text': 'RT @EbrahimNasreen: Adani Group to be given 30 year Lithium excavation contract in J&amp;K. Best reply by Modi G. https://t.co/qqYQFAaJ5E'}\n",
            "sentiment: Positive\n",
            "{'edit_history_tweet_ids': ['1624036031954812928'], 'id': '1624036031954812928', 'text': 'RT @maliniranga: Everyone now knows that Gautam Adani is a grifter and a looter. But do people know how much his global businesses have con…'}\n",
            "sentiment: Positive\n",
            "{'edit_history_tweet_ids': ['1624036036082040832'], 'id': '1624036036082040832', 'text': \"RT @hodude81: I think lady's expecting too much from Modi..! Petrol we are getting cheap from Russia, Did the price of petrol change? He wi…\"}\n",
            "sentiment: Positive\n",
            "{'edit_history_tweet_ids': ['1624036034869620737'], 'id': '1624036034869620737', 'text': \"RT @SantoshDonthula: @K_Nageshwar Sir not for Nationalist's  but you should support Adani group in the same way as you supported TSRTC empl…\"}\n",
            "sentiment: Neutral\n",
            "{'edit_history_tweet_ids': ['1624036038061719553'], 'id': '1624036038061719553', 'text': 'RT @PKakkar_: • कोयले की प्रायोजित कमी create करो। \\n• दोस्त से कोयला 0 ड्यूटी पर इंपोर्ट करवाओ। \\n• सारे स्टेट्स को बोलो Adani का कोयला ख़री…'}\n",
            "sentiment: Neutral\n",
            "{'edit_history_tweet_ids': ['1624036041668853761'], 'id': '1624036041668853761', 'text': 'RT @ysathishreddy: On 8th, Modi says tap water is given to 8Cr families.\\nOn 9th, The same Modi says it’s given to 11Cr families! \\n\\nThe lies…'}\n",
            "sentiment: Neutral\n",
            "{'edit_history_tweet_ids': ['1624036040217616389'], 'id': '1624036040217616389', 'text': 'This is a good news . Will be interesting to see the fight . @business_today https://t.co/Tx25BnNX0k'}\n",
            "sentiment: Positive\n",
            "{'edit_history_tweet_ids': ['1624036045460500481'], 'id': '1624036045460500481', 'text': '@PRSundar64 Excellent sir great strategy'}\n",
            "sentiment: Positive\n",
            "{'edit_history_tweet_ids': ['1624036046207094784'], 'id': '1624036046207094784', 'text': 'RT @MediaHarshVT: #Budget पिछले साल का कैसे कोई पढ़ सकता है ? ज्ञात इतिहास में ऐसी दूसरी घटना नहीं है। मुझे स्पष्ट तौर पर लगता है कि, राहुल…'}\n",
            "sentiment: Neutral\n",
            "{'edit_history_tweet_ids': ['1624036027961860098'], 'id': '1624036027961860098', 'text': 'RT @pbhushan1: A brief history of Adani till Modi era! https://t.co/lvdAgNzlx7'}\n",
            "sentiment: Neutral\n",
            "{'edit_history_tweet_ids': ['1624036057456201728'], 'id': '1624036057456201728', 'text': 'RT @ShyamMeeraSingh: ख़ुद भाजपा के रेवन्यू मिनिस्टर ने विधानसभा में स्वीकार किया कि हाँ #Adani को 2-2₹ में बेची गई थी ज़मीन.. https://t.co/…'}\n",
            "sentiment: Neutral\n",
            "{'edit_history_tweet_ids': ['1624036054478225411'], 'id': '1624036054478225411', 'text': 'RT @UrbanShrink: Curious case of missing Adani! \\n\\n https://t.co/9y5IpfG05V'}\n",
            "sentiment: Negative\n",
            "{'edit_history_tweet_ids': ['1624036059494637568'], 'id': '1624036059494637568', 'text': 'RT @t_d_h_nair: BJP MPs were asking for proof of Modi, his government and various BJP state governments extending undue favours to the Adan…'}\n",
            "sentiment: Neutral\n",
            "{'edit_history_tweet_ids': ['1624036060799078400'], 'id': '1624036060799078400', 'text': 'RT @NAR_Handle: On 28 May’19, #ECT to be developed On Loan Basis &amp; Look how Modi’s trip to #SriLanka in June’19 changed things 👇 \\n\\n- Loan t…'}\n",
            "sentiment: Positive\n",
            "{'edit_history_tweet_ids': ['1624036059980890113'], 'id': '1624036059980890113', 'text': \"@khaleejtimes This is what India's reality is.. \\nAn imaginary economy that collapsed by more then half just with a news.. \\nThe rant of becoming so-called beconomic power is nothing more then a bubble..\"}\n",
            "sentiment: Positive\n",
            "{'edit_history_tweet_ids': ['1624036064775098369'], 'id': '1624036064775098369', 'text': 'RT @Reasonyourself: And they say that Modi did not help Adani... https://t.co/21mOHzCQsz'}\n",
            "sentiment: Neutral\n",
            "{'edit_history_tweet_ids': ['1624036064993345538'], 'id': '1624036064993345538', 'text': \"RT @Pun_Starr: People are expecting Modi to admit he has a relationship with Adani.\\n\\nLol. He hasn't even accepted his relationship with Jas…\"}\n",
            "sentiment: Positive\n",
            "{'edit_history_tweet_ids': ['1624036073084182529'], 'id': '1624036073084182529', 'text': \"RT @SubbaRaoTN: During the previous ELECTION, PAPPU took AMBANI's name in the RAFAEL in all his campaign &amp; got CRUSHED badly\\n\\nThis time he…\"}\n",
            "sentiment: Negative\n",
            "{'edit_history_tweet_ids': ['1624036075181314053'], 'id': '1624036075181314053', 'text': 'RT @NAR_Handle: What was the criteria for #ModiGovt to recommend #Adani as an investor? The whole loan project was changed into an investme…'}\n",
            "sentiment: Positive\n"
          ]
        },
        {
          "output_type": "stream",
          "name": "stderr",
          "text": [
            "ERROR:tweepy.streaming:Stream connection closed by Twitter\n"
          ]
        },
        {
          "output_type": "stream",
          "name": "stdout",
          "text": [
            "{'edit_history_tweet_ids': ['1624036078801027075'], 'id': '1624036078801027075', 'text': 'RT @IYC: Adani को फ्रांस की Total Energies ने दिया बड़ा झटका! कंपनी ने कहा आरोप पर पहले दें स्पष्टीकरण फिर करेंगे निवेश पर विचार! https://t…'}\n",
            "sentiment: Neutral\n"
          ]
        }
      ]
    }
  ]
}
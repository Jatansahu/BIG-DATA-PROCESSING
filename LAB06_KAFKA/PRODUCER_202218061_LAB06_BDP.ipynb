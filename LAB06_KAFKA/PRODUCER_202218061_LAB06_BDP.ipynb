{
 "cells": [
  {
   "cell_type": "code",
   "execution_count": 1,
   "id": "207d6f80",
   "metadata": {},
   "outputs": [
    {
     "name": "stdout",
     "output_type": "stream",
     "text": [
      "Requirement already satisfied: kafka-python in c:\\users\\m.k. computers\\anaconda3\\lib\\site-packages (2.0.2)Note: you may need to restart the kernel to use updated packages.\n",
      "\n"
     ]
    }
   ],
   "source": [
    "pip install kafka-python"
   ]
  },
  {
   "cell_type": "code",
   "execution_count": null,
   "id": "aa5766fa",
   "metadata": {},
   "outputs": [],
   "source": [
    "#Create a topic:\n",
    "#Open a new command prompt and navigate to the Kafka directory.\n",
    "#Run the following command to create a topic named test:\n",
    "\n",
    "#Zookeeper is running default on localhost:2181 and Kafka on localhost:9092\n",
    "#.bin\\windows\\kafka-topics.bat --create --topic test --bootstrap-server localhost:2181\n",
    "\n",
    "#.\\bin\\windows\\kafka-topics.bat --create --topic test-topic2 --bootstrap-server localhost:9092 --replication-factor 1 --partitions 4"
   ]
  },
  {
   "cell_type": "code",
   "execution_count": 1,
   "id": "8902f20d",
   "metadata": {},
   "outputs": [],
   "source": [
    "import json\n",
    "from time import sleep\n",
    "from json import dumps\n",
    "from kafka import KafkaProducer\n",
    "from datetime import datetime"
   ]
  },
  {
   "cell_type": "code",
   "execution_count": 2,
   "id": "4aae0947",
   "metadata": {},
   "outputs": [],
   "source": [
    "# producer = KafkaProducer(bootstrap_servers=['localhost:9092'],\n",
    "#                          value_serializer=lambda x: \n",
    "#                          dumps(x).encode('utf-8'))"
   ]
  },
  {
   "cell_type": "code",
   "execution_count": 3,
   "id": "28635e1e",
   "metadata": {},
   "outputs": [],
   "source": [
    "# for e in range(1000):\n",
    "#     data = {'number' : e}\n",
    "#     producer.send('test-topic', value=data)\n",
    "#     sleep(5)"
   ]
  },
  {
   "cell_type": "code",
   "execution_count": 4,
   "id": "6023e029",
   "metadata": {},
   "outputs": [],
   "source": [
    "from kafka import KafkaProducer\n",
    "import time\n",
    "\n",
    "producer = KafkaProducer(bootstrap_servers='localhost:9092')\n",
    "\n",
    "for i in range(10):\n",
    "    producer.send('test-topic2', b'Hello, World!')\n",
    "    time.sleep(1)\n"
   ]
  },
  {
   "cell_type": "code",
   "execution_count": 5,
   "id": "4526800b",
   "metadata": {},
   "outputs": [
    {
     "data": {
      "text/plain": [
       "datetime.datetime(2023, 4, 8, 0, 13, 43, 767624)"
      ]
     },
     "execution_count": 5,
     "metadata": {},
     "output_type": "execute_result"
    }
   ],
   "source": [
    "now = datetime.now()\n",
    "now"
   ]
  },
  {
   "cell_type": "code",
   "execution_count": 6,
   "id": "1f00eede",
   "metadata": {},
   "outputs": [
    {
     "data": {
      "text/plain": [
       "'08/04/2023 00:13:43'"
      ]
     },
     "execution_count": 6,
     "metadata": {},
     "output_type": "execute_result"
    }
   ],
   "source": [
    "current_time = now.strftime(\"%d/%m/%Y %H:%M:%S\")\n",
    "current_time"
   ]
  },
  {
   "cell_type": "code",
   "execution_count": 7,
   "id": "ce6c961f",
   "metadata": {},
   "outputs": [
    {
     "name": "stdout",
     "output_type": "stream",
     "text": [
      "message sent  0\n",
      "message sent  1\n",
      "message sent  2\n",
      "message sent  3\n",
      "message sent  4\n",
      "message sent  5\n",
      "message sent  6\n",
      "message sent  7\n",
      "message sent  8\n",
      "message sent  9\n"
     ]
    }
   ],
   "source": [
    "for i in range(10):\n",
    "    message = \"Message {}\".format(str(datetime.now().time()))\n",
    "    producer.send('test-topic2', json.dumps(message).encode('utf-8'))\n",
    "    sleep(2)\n",
    "    print(\"message sent \",i)"
   ]
  },
  {
   "cell_type": "code",
   "execution_count": null,
   "id": "1522f5ee",
   "metadata": {},
   "outputs": [],
   "source": []
  },
  {
   "cell_type": "code",
   "execution_count": null,
   "id": "df691626",
   "metadata": {},
   "outputs": [],
   "source": []
  },
  {
   "cell_type": "code",
   "execution_count": null,
   "id": "9bf1a54f",
   "metadata": {},
   "outputs": [],
   "source": []
  },
  {
   "cell_type": "code",
   "execution_count": null,
   "id": "c0f90929",
   "metadata": {},
   "outputs": [],
   "source": []
  }
 ],
 "metadata": {
  "kernelspec": {
   "display_name": "Python 3 (ipykernel)",
   "language": "python",
   "name": "python3"
  },
  "language_info": {
   "codemirror_mode": {
    "name": "ipython",
    "version": 3
   },
   "file_extension": ".py",
   "mimetype": "text/x-python",
   "name": "python",
   "nbconvert_exporter": "python",
   "pygments_lexer": "ipython3",
   "version": "3.10.9"
  }
 },
 "nbformat": 4,
 "nbformat_minor": 5
}
